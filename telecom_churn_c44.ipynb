{
 "cells": [
  {
   "attachments": {},
   "cell_type": "markdown",
   "metadata": {},
   "source": [
    "### Problem statement"
   ]
  },
  {
   "attachments": {},
   "cell_type": "markdown",
   "metadata": {},
   "source": [
    "In the telecommunication industry, customers tend to change operators if not provided with attractive schemes and offers. It is very important for any telecom operator to prevent the present customers from churning to other operators. As a data scientist, your task in this case study would be to build an ML model which can predict if the customer will churn or not in a particular month based on the past data.\n",
    "\n",
    "Out of portential churning customer, retaining those customer who generates high revenue is main business goal here."
   ]
  },
  {
   "attachments": {},
   "cell_type": "markdown",
   "metadata": {},
   "source": [
    "#### Steps will be as follow:-\n",
    "\n",
    "1. Data understanding, preparation & pre-processing\n",
    "2. EDA\n",
    "3. Feature engineering and variable transformation\n",
    "4. Train/Test Split\n",
    "5. Model evaluation\n",
    "6. Model selection, model training, Prediction\n",
    "7. Model improvement"
   ]
  },
  {
   "attachments": {},
   "cell_type": "markdown",
   "metadata": {},
   "source": [
    "#### 1. Data collection"
   ]
  },
  {
   "cell_type": "code",
   "execution_count": 1,
   "metadata": {},
   "outputs": [],
   "source": [
    "# Importing libraries\n",
    "import pandas as pd\n",
    "import numpy as np\n",
    "\n",
    "import seaborn as sns\n",
    "import matplotlib.pyplot as plt \n",
    "%matplotlib inline\n",
    "\n",
    "import warnings\n",
    "warnings.filterwarnings('ignore')"
   ]
  },
  {
   "cell_type": "code",
   "execution_count": 2,
   "metadata": {},
   "outputs": [],
   "source": [
    "# Importing model related libs\n",
    "from imblearn.over_sampling import SMOTE\n",
    "from sklearn import preprocessing\n",
    "from sklearn.model_selection import train_test_split\n",
    "import itertools\n",
    "from sklearn.model_selection import GridSearchCV\n",
    "from sklearn.tree import DecisionTreeClassifier\n",
    "from sklearn.metrics import auc, roc_curve\n",
    "from sklearn.metrics import confusion_matrix\n",
    "from sklearn.model_selection import RandomizedSearchCV\n",
    "from sklearn.ensemble import RandomForestClassifier\n",
    "from sklearn import metrics\n",
    "\n",
    "#Import PCA\n",
    "from sklearn.decomposition import PCA "
   ]
  },
  {
   "cell_type": "code",
   "execution_count": 3,
   "metadata": {},
   "outputs": [],
   "source": [
    "# Reading dataset\n",
    "raw_df = pd.read_csv('train.csv')"
   ]
  },
  {
   "attachments": {},
   "cell_type": "markdown",
   "metadata": {},
   "source": [
    "#### 2. Data understanding, preparation & pre-processing"
   ]
  },
  {
   "cell_type": "code",
   "execution_count": 4,
   "metadata": {},
   "outputs": [
    {
     "data": {
      "text/html": [
       "<div>\n",
       "<style scoped>\n",
       "    .dataframe tbody tr th:only-of-type {\n",
       "        vertical-align: middle;\n",
       "    }\n",
       "\n",
       "    .dataframe tbody tr th {\n",
       "        vertical-align: top;\n",
       "    }\n",
       "\n",
       "    .dataframe thead th {\n",
       "        text-align: right;\n",
       "    }\n",
       "</style>\n",
       "<table border=\"1\" class=\"dataframe\">\n",
       "  <thead>\n",
       "    <tr style=\"text-align: right;\">\n",
       "      <th></th>\n",
       "      <th>id</th>\n",
       "      <th>circle_id</th>\n",
       "      <th>loc_og_t2o_mou</th>\n",
       "      <th>std_og_t2o_mou</th>\n",
       "      <th>loc_ic_t2o_mou</th>\n",
       "      <th>last_date_of_month_6</th>\n",
       "      <th>last_date_of_month_7</th>\n",
       "      <th>last_date_of_month_8</th>\n",
       "      <th>arpu_6</th>\n",
       "      <th>arpu_7</th>\n",
       "      <th>...</th>\n",
       "      <th>sachet_3g_7</th>\n",
       "      <th>sachet_3g_8</th>\n",
       "      <th>fb_user_6</th>\n",
       "      <th>fb_user_7</th>\n",
       "      <th>fb_user_8</th>\n",
       "      <th>aon</th>\n",
       "      <th>aug_vbc_3g</th>\n",
       "      <th>jul_vbc_3g</th>\n",
       "      <th>jun_vbc_3g</th>\n",
       "      <th>churn_probability</th>\n",
       "    </tr>\n",
       "  </thead>\n",
       "  <tbody>\n",
       "    <tr>\n",
       "      <th>0</th>\n",
       "      <td>0</td>\n",
       "      <td>109</td>\n",
       "      <td>0.0</td>\n",
       "      <td>0.0</td>\n",
       "      <td>0.0</td>\n",
       "      <td>6/30/2014</td>\n",
       "      <td>7/31/2014</td>\n",
       "      <td>8/31/2014</td>\n",
       "      <td>31.277</td>\n",
       "      <td>87.009</td>\n",
       "      <td>...</td>\n",
       "      <td>0</td>\n",
       "      <td>0</td>\n",
       "      <td>NaN</td>\n",
       "      <td>NaN</td>\n",
       "      <td>NaN</td>\n",
       "      <td>1958</td>\n",
       "      <td>0.0</td>\n",
       "      <td>0.0</td>\n",
       "      <td>0.0</td>\n",
       "      <td>0</td>\n",
       "    </tr>\n",
       "    <tr>\n",
       "      <th>1</th>\n",
       "      <td>1</td>\n",
       "      <td>109</td>\n",
       "      <td>0.0</td>\n",
       "      <td>0.0</td>\n",
       "      <td>0.0</td>\n",
       "      <td>6/30/2014</td>\n",
       "      <td>7/31/2014</td>\n",
       "      <td>8/31/2014</td>\n",
       "      <td>0.000</td>\n",
       "      <td>122.787</td>\n",
       "      <td>...</td>\n",
       "      <td>0</td>\n",
       "      <td>0</td>\n",
       "      <td>NaN</td>\n",
       "      <td>1.0</td>\n",
       "      <td>NaN</td>\n",
       "      <td>710</td>\n",
       "      <td>0.0</td>\n",
       "      <td>0.0</td>\n",
       "      <td>0.0</td>\n",
       "      <td>0</td>\n",
       "    </tr>\n",
       "    <tr>\n",
       "      <th>2</th>\n",
       "      <td>2</td>\n",
       "      <td>109</td>\n",
       "      <td>0.0</td>\n",
       "      <td>0.0</td>\n",
       "      <td>0.0</td>\n",
       "      <td>6/30/2014</td>\n",
       "      <td>7/31/2014</td>\n",
       "      <td>8/31/2014</td>\n",
       "      <td>60.806</td>\n",
       "      <td>103.176</td>\n",
       "      <td>...</td>\n",
       "      <td>0</td>\n",
       "      <td>0</td>\n",
       "      <td>NaN</td>\n",
       "      <td>NaN</td>\n",
       "      <td>NaN</td>\n",
       "      <td>882</td>\n",
       "      <td>0.0</td>\n",
       "      <td>0.0</td>\n",
       "      <td>0.0</td>\n",
       "      <td>0</td>\n",
       "    </tr>\n",
       "    <tr>\n",
       "      <th>3</th>\n",
       "      <td>3</td>\n",
       "      <td>109</td>\n",
       "      <td>0.0</td>\n",
       "      <td>0.0</td>\n",
       "      <td>0.0</td>\n",
       "      <td>6/30/2014</td>\n",
       "      <td>7/31/2014</td>\n",
       "      <td>8/31/2014</td>\n",
       "      <td>156.362</td>\n",
       "      <td>205.260</td>\n",
       "      <td>...</td>\n",
       "      <td>0</td>\n",
       "      <td>0</td>\n",
       "      <td>NaN</td>\n",
       "      <td>NaN</td>\n",
       "      <td>NaN</td>\n",
       "      <td>982</td>\n",
       "      <td>0.0</td>\n",
       "      <td>0.0</td>\n",
       "      <td>0.0</td>\n",
       "      <td>0</td>\n",
       "    </tr>\n",
       "    <tr>\n",
       "      <th>4</th>\n",
       "      <td>4</td>\n",
       "      <td>109</td>\n",
       "      <td>0.0</td>\n",
       "      <td>0.0</td>\n",
       "      <td>0.0</td>\n",
       "      <td>6/30/2014</td>\n",
       "      <td>7/31/2014</td>\n",
       "      <td>8/31/2014</td>\n",
       "      <td>240.708</td>\n",
       "      <td>128.191</td>\n",
       "      <td>...</td>\n",
       "      <td>1</td>\n",
       "      <td>0</td>\n",
       "      <td>1.0</td>\n",
       "      <td>1.0</td>\n",
       "      <td>1.0</td>\n",
       "      <td>647</td>\n",
       "      <td>0.0</td>\n",
       "      <td>0.0</td>\n",
       "      <td>0.0</td>\n",
       "      <td>0</td>\n",
       "    </tr>\n",
       "  </tbody>\n",
       "</table>\n",
       "<p>5 rows × 172 columns</p>\n",
       "</div>"
      ],
      "text/plain": [
       "   id  circle_id  loc_og_t2o_mou  std_og_t2o_mou  loc_ic_t2o_mou  \\\n",
       "0   0        109             0.0             0.0             0.0   \n",
       "1   1        109             0.0             0.0             0.0   \n",
       "2   2        109             0.0             0.0             0.0   \n",
       "3   3        109             0.0             0.0             0.0   \n",
       "4   4        109             0.0             0.0             0.0   \n",
       "\n",
       "  last_date_of_month_6 last_date_of_month_7 last_date_of_month_8   arpu_6  \\\n",
       "0            6/30/2014            7/31/2014            8/31/2014   31.277   \n",
       "1            6/30/2014            7/31/2014            8/31/2014    0.000   \n",
       "2            6/30/2014            7/31/2014            8/31/2014   60.806   \n",
       "3            6/30/2014            7/31/2014            8/31/2014  156.362   \n",
       "4            6/30/2014            7/31/2014            8/31/2014  240.708   \n",
       "\n",
       "    arpu_7  ...  sachet_3g_7  sachet_3g_8  fb_user_6  fb_user_7  fb_user_8  \\\n",
       "0   87.009  ...            0            0        NaN        NaN        NaN   \n",
       "1  122.787  ...            0            0        NaN        1.0        NaN   \n",
       "2  103.176  ...            0            0        NaN        NaN        NaN   \n",
       "3  205.260  ...            0            0        NaN        NaN        NaN   \n",
       "4  128.191  ...            1            0        1.0        1.0        1.0   \n",
       "\n",
       "    aon  aug_vbc_3g  jul_vbc_3g  jun_vbc_3g  churn_probability  \n",
       "0  1958         0.0         0.0         0.0                  0  \n",
       "1   710         0.0         0.0         0.0                  0  \n",
       "2   882         0.0         0.0         0.0                  0  \n",
       "3   982         0.0         0.0         0.0                  0  \n",
       "4   647         0.0         0.0         0.0                  0  \n",
       "\n",
       "[5 rows x 172 columns]"
      ]
     },
     "execution_count": 4,
     "metadata": {},
     "output_type": "execute_result"
    }
   ],
   "source": [
    "raw_df.head()"
   ]
  },
  {
   "attachments": {},
   "cell_type": "markdown",
   "metadata": {},
   "source": [
    "##### Let's understand the data structure, columns and data types."
   ]
  },
  {
   "cell_type": "code",
   "execution_count": 5,
   "metadata": {},
   "outputs": [
    {
     "data": {
      "text/plain": [
       "(69999, 172)"
      ]
     },
     "execution_count": 5,
     "metadata": {},
     "output_type": "execute_result"
    }
   ],
   "source": [
    "raw_df.shape"
   ]
  },
  {
   "cell_type": "code",
   "execution_count": 6,
   "metadata": {},
   "outputs": [
    {
     "data": {
      "text/plain": [
       "array(['id', 'circle_id', 'loc_og_t2o_mou', 'std_og_t2o_mou',\n",
       "       'loc_ic_t2o_mou', 'last_date_of_month_6', 'last_date_of_month_7',\n",
       "       'last_date_of_month_8', 'arpu_6', 'arpu_7', 'arpu_8',\n",
       "       'onnet_mou_6', 'onnet_mou_7', 'onnet_mou_8', 'offnet_mou_6',\n",
       "       'offnet_mou_7', 'offnet_mou_8', 'roam_ic_mou_6', 'roam_ic_mou_7',\n",
       "       'roam_ic_mou_8', 'roam_og_mou_6', 'roam_og_mou_7', 'roam_og_mou_8',\n",
       "       'loc_og_t2t_mou_6', 'loc_og_t2t_mou_7', 'loc_og_t2t_mou_8',\n",
       "       'loc_og_t2m_mou_6', 'loc_og_t2m_mou_7', 'loc_og_t2m_mou_8',\n",
       "       'loc_og_t2f_mou_6', 'loc_og_t2f_mou_7', 'loc_og_t2f_mou_8',\n",
       "       'loc_og_t2c_mou_6', 'loc_og_t2c_mou_7', 'loc_og_t2c_mou_8',\n",
       "       'loc_og_mou_6', 'loc_og_mou_7', 'loc_og_mou_8', 'std_og_t2t_mou_6',\n",
       "       'std_og_t2t_mou_7', 'std_og_t2t_mou_8', 'std_og_t2m_mou_6',\n",
       "       'std_og_t2m_mou_7', 'std_og_t2m_mou_8', 'std_og_t2f_mou_6',\n",
       "       'std_og_t2f_mou_7', 'std_og_t2f_mou_8', 'std_og_t2c_mou_6',\n",
       "       'std_og_t2c_mou_7', 'std_og_t2c_mou_8', 'std_og_mou_6',\n",
       "       'std_og_mou_7', 'std_og_mou_8', 'isd_og_mou_6', 'isd_og_mou_7',\n",
       "       'isd_og_mou_8', 'spl_og_mou_6', 'spl_og_mou_7', 'spl_og_mou_8',\n",
       "       'og_others_6', 'og_others_7', 'og_others_8', 'total_og_mou_6',\n",
       "       'total_og_mou_7', 'total_og_mou_8', 'loc_ic_t2t_mou_6',\n",
       "       'loc_ic_t2t_mou_7', 'loc_ic_t2t_mou_8', 'loc_ic_t2m_mou_6',\n",
       "       'loc_ic_t2m_mou_7', 'loc_ic_t2m_mou_8', 'loc_ic_t2f_mou_6',\n",
       "       'loc_ic_t2f_mou_7', 'loc_ic_t2f_mou_8', 'loc_ic_mou_6',\n",
       "       'loc_ic_mou_7', 'loc_ic_mou_8', 'std_ic_t2t_mou_6',\n",
       "       'std_ic_t2t_mou_7', 'std_ic_t2t_mou_8', 'std_ic_t2m_mou_6',\n",
       "       'std_ic_t2m_mou_7', 'std_ic_t2m_mou_8', 'std_ic_t2f_mou_6',\n",
       "       'std_ic_t2f_mou_7', 'std_ic_t2f_mou_8', 'std_ic_t2o_mou_6',\n",
       "       'std_ic_t2o_mou_7', 'std_ic_t2o_mou_8', 'std_ic_mou_6',\n",
       "       'std_ic_mou_7', 'std_ic_mou_8', 'total_ic_mou_6', 'total_ic_mou_7',\n",
       "       'total_ic_mou_8', 'spl_ic_mou_6', 'spl_ic_mou_7', 'spl_ic_mou_8',\n",
       "       'isd_ic_mou_6', 'isd_ic_mou_7', 'isd_ic_mou_8', 'ic_others_6',\n",
       "       'ic_others_7', 'ic_others_8', 'total_rech_num_6',\n",
       "       'total_rech_num_7', 'total_rech_num_8', 'total_rech_amt_6',\n",
       "       'total_rech_amt_7', 'total_rech_amt_8', 'max_rech_amt_6',\n",
       "       'max_rech_amt_7', 'max_rech_amt_8', 'date_of_last_rech_6',\n",
       "       'date_of_last_rech_7', 'date_of_last_rech_8', 'last_day_rch_amt_6',\n",
       "       'last_day_rch_amt_7', 'last_day_rch_amt_8',\n",
       "       'date_of_last_rech_data_6', 'date_of_last_rech_data_7',\n",
       "       'date_of_last_rech_data_8', 'total_rech_data_6',\n",
       "       'total_rech_data_7', 'total_rech_data_8', 'max_rech_data_6',\n",
       "       'max_rech_data_7', 'max_rech_data_8', 'count_rech_2g_6',\n",
       "       'count_rech_2g_7', 'count_rech_2g_8', 'count_rech_3g_6',\n",
       "       'count_rech_3g_7', 'count_rech_3g_8', 'av_rech_amt_data_6',\n",
       "       'av_rech_amt_data_7', 'av_rech_amt_data_8', 'vol_2g_mb_6',\n",
       "       'vol_2g_mb_7', 'vol_2g_mb_8', 'vol_3g_mb_6', 'vol_3g_mb_7',\n",
       "       'vol_3g_mb_8', 'arpu_3g_6', 'arpu_3g_7', 'arpu_3g_8', 'arpu_2g_6',\n",
       "       'arpu_2g_7', 'arpu_2g_8', 'night_pck_user_6', 'night_pck_user_7',\n",
       "       'night_pck_user_8', 'monthly_2g_6', 'monthly_2g_7', 'monthly_2g_8',\n",
       "       'sachet_2g_6', 'sachet_2g_7', 'sachet_2g_8', 'monthly_3g_6',\n",
       "       'monthly_3g_7', 'monthly_3g_8', 'sachet_3g_6', 'sachet_3g_7',\n",
       "       'sachet_3g_8', 'fb_user_6', 'fb_user_7', 'fb_user_8', 'aon',\n",
       "       'aug_vbc_3g', 'jul_vbc_3g', 'jun_vbc_3g', 'churn_probability'],\n",
       "      dtype=object)"
      ]
     },
     "execution_count": 6,
     "metadata": {},
     "output_type": "execute_result"
    }
   ],
   "source": [
    "raw_df.columns.values"
   ]
  },
  {
   "cell_type": "code",
   "execution_count": 7,
   "metadata": {},
   "outputs": [
    {
     "data": {
      "text/plain": [
       "id                     int64\n",
       "circle_id              int64\n",
       "loc_og_t2o_mou       float64\n",
       "std_og_t2o_mou       float64\n",
       "loc_ic_t2o_mou       float64\n",
       "                      ...   \n",
       "aon                    int64\n",
       "aug_vbc_3g           float64\n",
       "jul_vbc_3g           float64\n",
       "jun_vbc_3g           float64\n",
       "churn_probability      int64\n",
       "Length: 172, dtype: object"
      ]
     },
     "execution_count": 7,
     "metadata": {},
     "output_type": "execute_result"
    }
   ],
   "source": [
    "raw_df.dtypes"
   ]
  },
  {
   "cell_type": "code",
   "execution_count": 8,
   "metadata": {},
   "outputs": [
    {
     "name": "stdout",
     "output_type": "stream",
     "text": [
      "<class 'pandas.core.frame.DataFrame'>\n",
      "RangeIndex: 69999 entries, 0 to 69998\n",
      "Columns: 172 entries, id to churn_probability\n",
      "dtypes: float64(135), int64(28), object(9)\n",
      "memory usage: 91.9+ MB\n"
     ]
    }
   ],
   "source": [
    "raw_df.info()"
   ]
  },
  {
   "cell_type": "code",
   "execution_count": 9,
   "metadata": {},
   "outputs": [
    {
     "data": {
      "text/plain": [
       "arpu_3g_6                   52431\n",
       "count_rech_2g_6             52431\n",
       "night_pck_user_6            52431\n",
       "arpu_2g_6                   52431\n",
       "date_of_last_rech_data_6    52431\n",
       "                            ...  \n",
       "last_day_rch_amt_8              0\n",
       "vol_2g_mb_6                     0\n",
       "vol_2g_mb_7                     0\n",
       "vol_2g_mb_8                     0\n",
       "churn_probability               0\n",
       "Length: 172, dtype: int64"
      ]
     },
     "execution_count": 9,
     "metadata": {},
     "output_type": "execute_result"
    }
   ],
   "source": [
    "raw_df.isnull().sum().sort_values(ascending=False)"
   ]
  },
  {
   "cell_type": "code",
   "execution_count": 10,
   "metadata": {},
   "outputs": [
    {
     "data": {
      "text/plain": [
       "30"
      ]
     },
     "execution_count": 10,
     "metadata": {},
     "output_type": "execute_result"
    }
   ],
   "source": [
    "# Handling null/missing values (in percent)\n",
    "df_missing_cols = (round(((raw_df.isnull().sum()/len(raw_df.index))*100),2).to_frame('null')).sort_values('null', ascending=False)\n",
    "\n",
    "#List all those columns which have signficant null entry (random set more than 60%)\n",
    "col_list_missing_60 = list(df_missing_cols.index[df_missing_cols['null'] > 60])\n",
    "len(col_list_missing_60)"
   ]
  },
  {
   "attachments": {},
   "cell_type": "markdown",
   "metadata": {},
   "source": [
    "### Data Cleaning"
   ]
  },
  {
   "attachments": {},
   "cell_type": "markdown",
   "metadata": {},
   "source": [
    "##### Droping columns which can be noise in this analysis"
   ]
  },
  {
   "cell_type": "code",
   "execution_count": 11,
   "metadata": {},
   "outputs": [
    {
     "data": {
      "text/html": [
       "<div>\n",
       "<style scoped>\n",
       "    .dataframe tbody tr th:only-of-type {\n",
       "        vertical-align: middle;\n",
       "    }\n",
       "\n",
       "    .dataframe tbody tr th {\n",
       "        vertical-align: top;\n",
       "    }\n",
       "\n",
       "    .dataframe thead th {\n",
       "        text-align: right;\n",
       "    }\n",
       "</style>\n",
       "<table border=\"1\" class=\"dataframe\">\n",
       "  <thead>\n",
       "    <tr style=\"text-align: right;\">\n",
       "      <th></th>\n",
       "      <th>id</th>\n",
       "      <th>circle_id</th>\n",
       "      <th>loc_og_t2o_mou</th>\n",
       "      <th>std_og_t2o_mou</th>\n",
       "      <th>loc_ic_t2o_mou</th>\n",
       "      <th>last_date_of_month_6</th>\n",
       "      <th>last_date_of_month_7</th>\n",
       "      <th>last_date_of_month_8</th>\n",
       "      <th>arpu_6</th>\n",
       "      <th>arpu_7</th>\n",
       "      <th>...</th>\n",
       "      <th>monthly_3g_7</th>\n",
       "      <th>monthly_3g_8</th>\n",
       "      <th>sachet_3g_6</th>\n",
       "      <th>sachet_3g_7</th>\n",
       "      <th>sachet_3g_8</th>\n",
       "      <th>aon</th>\n",
       "      <th>aug_vbc_3g</th>\n",
       "      <th>jul_vbc_3g</th>\n",
       "      <th>jun_vbc_3g</th>\n",
       "      <th>churn_probability</th>\n",
       "    </tr>\n",
       "  </thead>\n",
       "  <tbody>\n",
       "    <tr>\n",
       "      <th>0</th>\n",
       "      <td>0</td>\n",
       "      <td>109</td>\n",
       "      <td>0.0</td>\n",
       "      <td>0.0</td>\n",
       "      <td>0.0</td>\n",
       "      <td>6/30/2014</td>\n",
       "      <td>7/31/2014</td>\n",
       "      <td>8/31/2014</td>\n",
       "      <td>31.277</td>\n",
       "      <td>87.009</td>\n",
       "      <td>...</td>\n",
       "      <td>0</td>\n",
       "      <td>0</td>\n",
       "      <td>0</td>\n",
       "      <td>0</td>\n",
       "      <td>0</td>\n",
       "      <td>1958</td>\n",
       "      <td>0.0</td>\n",
       "      <td>0.0</td>\n",
       "      <td>0.0</td>\n",
       "      <td>0</td>\n",
       "    </tr>\n",
       "    <tr>\n",
       "      <th>1</th>\n",
       "      <td>1</td>\n",
       "      <td>109</td>\n",
       "      <td>0.0</td>\n",
       "      <td>0.0</td>\n",
       "      <td>0.0</td>\n",
       "      <td>6/30/2014</td>\n",
       "      <td>7/31/2014</td>\n",
       "      <td>8/31/2014</td>\n",
       "      <td>0.000</td>\n",
       "      <td>122.787</td>\n",
       "      <td>...</td>\n",
       "      <td>1</td>\n",
       "      <td>0</td>\n",
       "      <td>0</td>\n",
       "      <td>0</td>\n",
       "      <td>0</td>\n",
       "      <td>710</td>\n",
       "      <td>0.0</td>\n",
       "      <td>0.0</td>\n",
       "      <td>0.0</td>\n",
       "      <td>0</td>\n",
       "    </tr>\n",
       "    <tr>\n",
       "      <th>2</th>\n",
       "      <td>2</td>\n",
       "      <td>109</td>\n",
       "      <td>0.0</td>\n",
       "      <td>0.0</td>\n",
       "      <td>0.0</td>\n",
       "      <td>6/30/2014</td>\n",
       "      <td>7/31/2014</td>\n",
       "      <td>8/31/2014</td>\n",
       "      <td>60.806</td>\n",
       "      <td>103.176</td>\n",
       "      <td>...</td>\n",
       "      <td>0</td>\n",
       "      <td>0</td>\n",
       "      <td>0</td>\n",
       "      <td>0</td>\n",
       "      <td>0</td>\n",
       "      <td>882</td>\n",
       "      <td>0.0</td>\n",
       "      <td>0.0</td>\n",
       "      <td>0.0</td>\n",
       "      <td>0</td>\n",
       "    </tr>\n",
       "    <tr>\n",
       "      <th>3</th>\n",
       "      <td>3</td>\n",
       "      <td>109</td>\n",
       "      <td>0.0</td>\n",
       "      <td>0.0</td>\n",
       "      <td>0.0</td>\n",
       "      <td>6/30/2014</td>\n",
       "      <td>7/31/2014</td>\n",
       "      <td>8/31/2014</td>\n",
       "      <td>156.362</td>\n",
       "      <td>205.260</td>\n",
       "      <td>...</td>\n",
       "      <td>0</td>\n",
       "      <td>0</td>\n",
       "      <td>0</td>\n",
       "      <td>0</td>\n",
       "      <td>0</td>\n",
       "      <td>982</td>\n",
       "      <td>0.0</td>\n",
       "      <td>0.0</td>\n",
       "      <td>0.0</td>\n",
       "      <td>0</td>\n",
       "    </tr>\n",
       "    <tr>\n",
       "      <th>4</th>\n",
       "      <td>4</td>\n",
       "      <td>109</td>\n",
       "      <td>0.0</td>\n",
       "      <td>0.0</td>\n",
       "      <td>0.0</td>\n",
       "      <td>6/30/2014</td>\n",
       "      <td>7/31/2014</td>\n",
       "      <td>8/31/2014</td>\n",
       "      <td>240.708</td>\n",
       "      <td>128.191</td>\n",
       "      <td>...</td>\n",
       "      <td>0</td>\n",
       "      <td>0</td>\n",
       "      <td>0</td>\n",
       "      <td>1</td>\n",
       "      <td>0</td>\n",
       "      <td>647</td>\n",
       "      <td>0.0</td>\n",
       "      <td>0.0</td>\n",
       "      <td>0.0</td>\n",
       "      <td>0</td>\n",
       "    </tr>\n",
       "  </tbody>\n",
       "</table>\n",
       "<p>5 rows × 142 columns</p>\n",
       "</div>"
      ],
      "text/plain": [
       "   id  circle_id  loc_og_t2o_mou  std_og_t2o_mou  loc_ic_t2o_mou  \\\n",
       "0   0        109             0.0             0.0             0.0   \n",
       "1   1        109             0.0             0.0             0.0   \n",
       "2   2        109             0.0             0.0             0.0   \n",
       "3   3        109             0.0             0.0             0.0   \n",
       "4   4        109             0.0             0.0             0.0   \n",
       "\n",
       "  last_date_of_month_6 last_date_of_month_7 last_date_of_month_8   arpu_6  \\\n",
       "0            6/30/2014            7/31/2014            8/31/2014   31.277   \n",
       "1            6/30/2014            7/31/2014            8/31/2014    0.000   \n",
       "2            6/30/2014            7/31/2014            8/31/2014   60.806   \n",
       "3            6/30/2014            7/31/2014            8/31/2014  156.362   \n",
       "4            6/30/2014            7/31/2014            8/31/2014  240.708   \n",
       "\n",
       "    arpu_7  ...  monthly_3g_7  monthly_3g_8  sachet_3g_6  sachet_3g_7  \\\n",
       "0   87.009  ...             0             0            0            0   \n",
       "1  122.787  ...             1             0            0            0   \n",
       "2  103.176  ...             0             0            0            0   \n",
       "3  205.260  ...             0             0            0            0   \n",
       "4  128.191  ...             0             0            0            1   \n",
       "\n",
       "   sachet_3g_8   aon  aug_vbc_3g  jul_vbc_3g  jun_vbc_3g  churn_probability  \n",
       "0            0  1958         0.0         0.0         0.0                  0  \n",
       "1            0   710         0.0         0.0         0.0                  0  \n",
       "2            0   882         0.0         0.0         0.0                  0  \n",
       "3            0   982         0.0         0.0         0.0                  0  \n",
       "4            0   647         0.0         0.0         0.0                  0  \n",
       "\n",
       "[5 rows x 142 columns]"
      ]
     },
     "execution_count": 11,
     "metadata": {},
     "output_type": "execute_result"
    }
   ],
   "source": [
    "# dropping all columns which are more values with empty\n",
    "clean_df = raw_df.drop(col_list_missing_60, axis=1)\n",
    "#Removing missing values \n",
    "clean_df.dropna(inplace = True)\n",
    "clean_df.head()"
   ]
  },
  {
   "cell_type": "code",
   "execution_count": 12,
   "metadata": {},
   "outputs": [
    {
     "data": {
      "text/plain": [
       "(142, 1)"
      ]
     },
     "execution_count": 12,
     "metadata": {},
     "output_type": "execute_result"
    }
   ],
   "source": [
    "# check again null entry on clean_df\n",
    "df_missing_cols = (round(((clean_df.isnull().sum()/len(clean_df.index))*100),2).to_frame('null')).sort_values('null', ascending=False)\n",
    "df_missing_cols.shape"
   ]
  },
  {
   "cell_type": "code",
   "execution_count": 13,
   "metadata": {},
   "outputs": [
    {
     "data": {
      "text/html": [
       "<div>\n",
       "<style scoped>\n",
       "    .dataframe tbody tr th:only-of-type {\n",
       "        vertical-align: middle;\n",
       "    }\n",
       "\n",
       "    .dataframe tbody tr th {\n",
       "        vertical-align: top;\n",
       "    }\n",
       "\n",
       "    .dataframe thead th {\n",
       "        text-align: right;\n",
       "    }\n",
       "</style>\n",
       "<table border=\"1\" class=\"dataframe\">\n",
       "  <thead>\n",
       "    <tr style=\"text-align: right;\">\n",
       "      <th></th>\n",
       "      <th>id</th>\n",
       "      <th>circle_id</th>\n",
       "      <th>loc_og_t2o_mou</th>\n",
       "      <th>std_og_t2o_mou</th>\n",
       "      <th>loc_ic_t2o_mou</th>\n",
       "      <th>last_date_of_month_6</th>\n",
       "      <th>last_date_of_month_7</th>\n",
       "      <th>last_date_of_month_8</th>\n",
       "      <th>arpu_6</th>\n",
       "      <th>arpu_7</th>\n",
       "      <th>...</th>\n",
       "      <th>monthly_3g_7</th>\n",
       "      <th>monthly_3g_8</th>\n",
       "      <th>sachet_3g_6</th>\n",
       "      <th>sachet_3g_7</th>\n",
       "      <th>sachet_3g_8</th>\n",
       "      <th>aon</th>\n",
       "      <th>aug_vbc_3g</th>\n",
       "      <th>jul_vbc_3g</th>\n",
       "      <th>jun_vbc_3g</th>\n",
       "      <th>churn_probability</th>\n",
       "    </tr>\n",
       "  </thead>\n",
       "  <tbody>\n",
       "    <tr>\n",
       "      <th>0</th>\n",
       "      <td>0</td>\n",
       "      <td>109</td>\n",
       "      <td>0.0</td>\n",
       "      <td>0.0</td>\n",
       "      <td>0.0</td>\n",
       "      <td>6/30/2014</td>\n",
       "      <td>7/31/2014</td>\n",
       "      <td>8/31/2014</td>\n",
       "      <td>31.277</td>\n",
       "      <td>87.009</td>\n",
       "      <td>...</td>\n",
       "      <td>0</td>\n",
       "      <td>0</td>\n",
       "      <td>0</td>\n",
       "      <td>0</td>\n",
       "      <td>0</td>\n",
       "      <td>1958</td>\n",
       "      <td>0.0</td>\n",
       "      <td>0.0</td>\n",
       "      <td>0.0</td>\n",
       "      <td>0</td>\n",
       "    </tr>\n",
       "    <tr>\n",
       "      <th>1</th>\n",
       "      <td>1</td>\n",
       "      <td>109</td>\n",
       "      <td>0.0</td>\n",
       "      <td>0.0</td>\n",
       "      <td>0.0</td>\n",
       "      <td>6/30/2014</td>\n",
       "      <td>7/31/2014</td>\n",
       "      <td>8/31/2014</td>\n",
       "      <td>0.000</td>\n",
       "      <td>122.787</td>\n",
       "      <td>...</td>\n",
       "      <td>1</td>\n",
       "      <td>0</td>\n",
       "      <td>0</td>\n",
       "      <td>0</td>\n",
       "      <td>0</td>\n",
       "      <td>710</td>\n",
       "      <td>0.0</td>\n",
       "      <td>0.0</td>\n",
       "      <td>0.0</td>\n",
       "      <td>0</td>\n",
       "    </tr>\n",
       "    <tr>\n",
       "      <th>2</th>\n",
       "      <td>2</td>\n",
       "      <td>109</td>\n",
       "      <td>0.0</td>\n",
       "      <td>0.0</td>\n",
       "      <td>0.0</td>\n",
       "      <td>6/30/2014</td>\n",
       "      <td>7/31/2014</td>\n",
       "      <td>8/31/2014</td>\n",
       "      <td>60.806</td>\n",
       "      <td>103.176</td>\n",
       "      <td>...</td>\n",
       "      <td>0</td>\n",
       "      <td>0</td>\n",
       "      <td>0</td>\n",
       "      <td>0</td>\n",
       "      <td>0</td>\n",
       "      <td>882</td>\n",
       "      <td>0.0</td>\n",
       "      <td>0.0</td>\n",
       "      <td>0.0</td>\n",
       "      <td>0</td>\n",
       "    </tr>\n",
       "    <tr>\n",
       "      <th>3</th>\n",
       "      <td>3</td>\n",
       "      <td>109</td>\n",
       "      <td>0.0</td>\n",
       "      <td>0.0</td>\n",
       "      <td>0.0</td>\n",
       "      <td>6/30/2014</td>\n",
       "      <td>7/31/2014</td>\n",
       "      <td>8/31/2014</td>\n",
       "      <td>156.362</td>\n",
       "      <td>205.260</td>\n",
       "      <td>...</td>\n",
       "      <td>0</td>\n",
       "      <td>0</td>\n",
       "      <td>0</td>\n",
       "      <td>0</td>\n",
       "      <td>0</td>\n",
       "      <td>982</td>\n",
       "      <td>0.0</td>\n",
       "      <td>0.0</td>\n",
       "      <td>0.0</td>\n",
       "      <td>0</td>\n",
       "    </tr>\n",
       "    <tr>\n",
       "      <th>4</th>\n",
       "      <td>4</td>\n",
       "      <td>109</td>\n",
       "      <td>0.0</td>\n",
       "      <td>0.0</td>\n",
       "      <td>0.0</td>\n",
       "      <td>6/30/2014</td>\n",
       "      <td>7/31/2014</td>\n",
       "      <td>8/31/2014</td>\n",
       "      <td>240.708</td>\n",
       "      <td>128.191</td>\n",
       "      <td>...</td>\n",
       "      <td>0</td>\n",
       "      <td>0</td>\n",
       "      <td>0</td>\n",
       "      <td>1</td>\n",
       "      <td>0</td>\n",
       "      <td>647</td>\n",
       "      <td>0.0</td>\n",
       "      <td>0.0</td>\n",
       "      <td>0.0</td>\n",
       "      <td>0</td>\n",
       "    </tr>\n",
       "  </tbody>\n",
       "</table>\n",
       "<p>5 rows × 142 columns</p>\n",
       "</div>"
      ],
      "text/plain": [
       "   id  circle_id  loc_og_t2o_mou  std_og_t2o_mou  loc_ic_t2o_mou  \\\n",
       "0   0        109             0.0             0.0             0.0   \n",
       "1   1        109             0.0             0.0             0.0   \n",
       "2   2        109             0.0             0.0             0.0   \n",
       "3   3        109             0.0             0.0             0.0   \n",
       "4   4        109             0.0             0.0             0.0   \n",
       "\n",
       "  last_date_of_month_6 last_date_of_month_7 last_date_of_month_8   arpu_6  \\\n",
       "0            6/30/2014            7/31/2014            8/31/2014   31.277   \n",
       "1            6/30/2014            7/31/2014            8/31/2014    0.000   \n",
       "2            6/30/2014            7/31/2014            8/31/2014   60.806   \n",
       "3            6/30/2014            7/31/2014            8/31/2014  156.362   \n",
       "4            6/30/2014            7/31/2014            8/31/2014  240.708   \n",
       "\n",
       "    arpu_7  ...  monthly_3g_7  monthly_3g_8  sachet_3g_6  sachet_3g_7  \\\n",
       "0   87.009  ...             0             0            0            0   \n",
       "1  122.787  ...             1             0            0            0   \n",
       "2  103.176  ...             0             0            0            0   \n",
       "3  205.260  ...             0             0            0            0   \n",
       "4  128.191  ...             0             0            0            1   \n",
       "\n",
       "   sachet_3g_8   aon  aug_vbc_3g  jul_vbc_3g  jun_vbc_3g  churn_probability  \n",
       "0            0  1958         0.0         0.0         0.0                  0  \n",
       "1            0   710         0.0         0.0         0.0                  0  \n",
       "2            0   882         0.0         0.0         0.0                  0  \n",
       "3            0   982         0.0         0.0         0.0                  0  \n",
       "4            0   647         0.0         0.0         0.0                  0  \n",
       "\n",
       "[5 rows x 142 columns]"
      ]
     },
     "execution_count": 13,
     "metadata": {},
     "output_type": "execute_result"
    }
   ],
   "source": [
    "clean_df.head()"
   ]
  },
  {
   "cell_type": "code",
   "execution_count": 14,
   "metadata": {},
   "outputs": [
    {
     "data": {
      "text/plain": [
       "id                   61895\n",
       "circle_id                1\n",
       "loc_og_t2o_mou           1\n",
       "std_og_t2o_mou           1\n",
       "loc_ic_t2o_mou           1\n",
       "                     ...  \n",
       "aon                   3447\n",
       "aug_vbc_3g           10005\n",
       "jul_vbc_3g            9523\n",
       "jun_vbc_3g            8809\n",
       "churn_probability        2\n",
       "Length: 142, dtype: int64"
      ]
     },
     "execution_count": 14,
     "metadata": {},
     "output_type": "execute_result"
    }
   ],
   "source": [
    "## Let's understand feature uniqueness\n",
    "clean_df.nunique()"
   ]
  },
  {
   "cell_type": "code",
   "execution_count": 15,
   "metadata": {},
   "outputs": [
    {
     "name": "stdout",
     "output_type": "stream",
     "text": [
      "['circle_id', 'loc_og_t2o_mou', 'std_og_t2o_mou', 'loc_ic_t2o_mou', 'last_date_of_month_6', 'last_date_of_month_7', 'last_date_of_month_8', 'std_og_t2c_mou_6', 'std_og_t2c_mou_7', 'std_og_t2c_mou_8', 'std_ic_t2o_mou_6', 'std_ic_t2o_mou_7', 'std_ic_t2o_mou_8']\n"
     ]
    }
   ],
   "source": [
    "# Columns with same value should be dropped , since these columns will have no impact\n",
    "df_unique_with_one_val = [i for i in clean_df.columns if clean_df[i].nunique()==1]\n",
    "print(df_unique_with_one_val)"
   ]
  },
  {
   "cell_type": "code",
   "execution_count": 16,
   "metadata": {},
   "outputs": [],
   "source": [
    "# Dropping columns with same value should be dropped, since these columns will have no impact\n",
    "clean_df = clean_df.drop(df_unique_with_one_val, axis=1)"
   ]
  },
  {
   "cell_type": "code",
   "execution_count": 17,
   "metadata": {},
   "outputs": [
    {
     "data": {
      "text/plain": [
       "array(['id', 'arpu_6', 'arpu_7', 'arpu_8', 'onnet_mou_6', 'onnet_mou_7',\n",
       "       'onnet_mou_8', 'offnet_mou_6', 'offnet_mou_7', 'offnet_mou_8',\n",
       "       'roam_ic_mou_6', 'roam_ic_mou_7', 'roam_ic_mou_8', 'roam_og_mou_6',\n",
       "       'roam_og_mou_7', 'roam_og_mou_8', 'loc_og_t2t_mou_6',\n",
       "       'loc_og_t2t_mou_7', 'loc_og_t2t_mou_8', 'loc_og_t2m_mou_6',\n",
       "       'loc_og_t2m_mou_7', 'loc_og_t2m_mou_8', 'loc_og_t2f_mou_6',\n",
       "       'loc_og_t2f_mou_7', 'loc_og_t2f_mou_8', 'loc_og_t2c_mou_6',\n",
       "       'loc_og_t2c_mou_7', 'loc_og_t2c_mou_8', 'loc_og_mou_6',\n",
       "       'loc_og_mou_7', 'loc_og_mou_8', 'std_og_t2t_mou_6',\n",
       "       'std_og_t2t_mou_7', 'std_og_t2t_mou_8', 'std_og_t2m_mou_6',\n",
       "       'std_og_t2m_mou_7', 'std_og_t2m_mou_8', 'std_og_t2f_mou_6',\n",
       "       'std_og_t2f_mou_7', 'std_og_t2f_mou_8', 'std_og_mou_6',\n",
       "       'std_og_mou_7', 'std_og_mou_8', 'isd_og_mou_6', 'isd_og_mou_7',\n",
       "       'isd_og_mou_8', 'spl_og_mou_6', 'spl_og_mou_7', 'spl_og_mou_8',\n",
       "       'og_others_6', 'og_others_7', 'og_others_8', 'total_og_mou_6',\n",
       "       'total_og_mou_7', 'total_og_mou_8', 'loc_ic_t2t_mou_6',\n",
       "       'loc_ic_t2t_mou_7', 'loc_ic_t2t_mou_8', 'loc_ic_t2m_mou_6',\n",
       "       'loc_ic_t2m_mou_7', 'loc_ic_t2m_mou_8', 'loc_ic_t2f_mou_6',\n",
       "       'loc_ic_t2f_mou_7', 'loc_ic_t2f_mou_8', 'loc_ic_mou_6',\n",
       "       'loc_ic_mou_7', 'loc_ic_mou_8', 'std_ic_t2t_mou_6',\n",
       "       'std_ic_t2t_mou_7', 'std_ic_t2t_mou_8', 'std_ic_t2m_mou_6',\n",
       "       'std_ic_t2m_mou_7', 'std_ic_t2m_mou_8', 'std_ic_t2f_mou_6',\n",
       "       'std_ic_t2f_mou_7', 'std_ic_t2f_mou_8', 'std_ic_mou_6',\n",
       "       'std_ic_mou_7', 'std_ic_mou_8', 'total_ic_mou_6', 'total_ic_mou_7',\n",
       "       'total_ic_mou_8', 'spl_ic_mou_6', 'spl_ic_mou_7', 'spl_ic_mou_8',\n",
       "       'isd_ic_mou_6', 'isd_ic_mou_7', 'isd_ic_mou_8', 'ic_others_6',\n",
       "       'ic_others_7', 'ic_others_8', 'total_rech_num_6',\n",
       "       'total_rech_num_7', 'total_rech_num_8', 'total_rech_amt_6',\n",
       "       'total_rech_amt_7', 'total_rech_amt_8', 'max_rech_amt_6',\n",
       "       'max_rech_amt_7', 'max_rech_amt_8', 'date_of_last_rech_6',\n",
       "       'date_of_last_rech_7', 'date_of_last_rech_8', 'last_day_rch_amt_6',\n",
       "       'last_day_rch_amt_7', 'last_day_rch_amt_8', 'vol_2g_mb_6',\n",
       "       'vol_2g_mb_7', 'vol_2g_mb_8', 'vol_3g_mb_6', 'vol_3g_mb_7',\n",
       "       'vol_3g_mb_8', 'monthly_2g_6', 'monthly_2g_7', 'monthly_2g_8',\n",
       "       'sachet_2g_6', 'sachet_2g_7', 'sachet_2g_8', 'monthly_3g_6',\n",
       "       'monthly_3g_7', 'monthly_3g_8', 'sachet_3g_6', 'sachet_3g_7',\n",
       "       'sachet_3g_8', 'aon', 'aug_vbc_3g', 'jul_vbc_3g', 'jun_vbc_3g',\n",
       "       'churn_probability'], dtype=object)"
      ]
     },
     "execution_count": 17,
     "metadata": {},
     "output_type": "execute_result"
    }
   ],
   "source": [
    "# Let's understand each columns to put some assumption and categorising variables\n",
    "clean_df.columns.values"
   ]
  },
  {
   "attachments": {},
   "cell_type": "markdown",
   "metadata": {},
   "source": [
    "As stated, we need to identify and target customers who are high revenue generating out of all churning customers.\n",
    "\n",
    "From the given dataset, Understanding behavior of customer in the month June, July and Aug."
   ]
  },
  {
   "cell_type": "code",
   "execution_count": 18,
   "metadata": {},
   "outputs": [],
   "source": [
    "# Filter premium customer (high revenue generating customer)\n",
    "clean_df['avg_rech_amt_6_7'] = (clean_df['total_rech_amt_6'] + clean_df['total_rech_amt_7'])/2"
   ]
  },
  {
   "cell_type": "code",
   "execution_count": 19,
   "metadata": {},
   "outputs": [
    {
     "data": {
      "text/plain": [
       "count    61895.000000\n",
       "mean       342.567687\n",
       "std        385.476672\n",
       "min          0.000000\n",
       "25%        125.000000\n",
       "50%        245.000000\n",
       "75%        440.000000\n",
       "max      37762.500000\n",
       "Name: avg_rech_amt_6_7, dtype: float64"
      ]
     },
     "execution_count": 19,
     "metadata": {},
     "output_type": "execute_result"
    }
   ],
   "source": [
    "df_des =clean_df['avg_rech_amt_6_7'].describe()\n",
    "df_des"
   ]
  },
  {
   "cell_type": "code",
   "execution_count": 20,
   "metadata": {},
   "outputs": [
    {
     "data": {
      "text/plain": [
       "0.40      192.0\n",
       "0.50      245.0\n",
       "0.60      307.0\n",
       "0.70      388.0\n",
       "0.99     1614.5\n",
       "1.00    37762.5\n",
       "Name: avg_rech_amt_6_7, dtype: float64"
      ]
     },
     "execution_count": 20,
     "metadata": {},
     "output_type": "execute_result"
    }
   ],
   "source": [
    "# Let's analyse quantile for the same\n",
    "clean_df['avg_rech_amt_6_7'].quantile([0.4,0.5,0.6,0.7,0.99,1])"
   ]
  },
  {
   "cell_type": "code",
   "execution_count": 21,
   "metadata": {},
   "outputs": [
    {
     "data": {
      "text/plain": [
       "(31028, 130)"
      ]
     },
     "execution_count": 21,
     "metadata": {},
     "output_type": "execute_result"
    }
   ],
   "source": [
    "# Filter customer who has recharged more than AR\n",
    "clean_df = clean_df[clean_df['avg_rech_amt_6_7'] >= clean_df['avg_rech_amt_6_7'].quantile(0.5)]\n",
    "clean_df.shape"
   ]
  },
  {
   "cell_type": "code",
   "execution_count": 22,
   "metadata": {},
   "outputs": [
    {
     "data": {
      "text/plain": [
       "(31028, 130)"
      ]
     },
     "execution_count": 22,
     "metadata": {},
     "output_type": "execute_result"
    }
   ],
   "source": [
    "# Check for null/missing values\n",
    "df_missing_rows = clean_df[(clean_df.isnull())]\n",
    "df_missing_rows.shape"
   ]
  },
  {
   "cell_type": "code",
   "execution_count": 23,
   "metadata": {},
   "outputs": [
    {
     "data": {
      "text/plain": [
       "(31028, 130)"
      ]
     },
     "execution_count": 23,
     "metadata": {},
     "output_type": "execute_result"
    }
   ],
   "source": [
    "# fullproof for other dataset, we should drop all rows which have 50% or more rows are null\n",
    "clean_df_missing_rows_50 = clean_df[(clean_df.isnull().sum(axis=1)) > (len(clean_df.columns)//2)]\n",
    "# Deleting the rows having more than 50% missing values\n",
    "clean_df = clean_df.drop(clean_df_missing_rows_50.index)\n",
    "clean_df.shape"
   ]
  },
  {
   "cell_type": "code",
   "execution_count": 24,
   "metadata": {},
   "outputs": [
    {
     "data": {
      "text/html": [
       "<div>\n",
       "<style scoped>\n",
       "    .dataframe tbody tr th:only-of-type {\n",
       "        vertical-align: middle;\n",
       "    }\n",
       "\n",
       "    .dataframe tbody tr th {\n",
       "        vertical-align: top;\n",
       "    }\n",
       "\n",
       "    .dataframe thead th {\n",
       "        text-align: right;\n",
       "    }\n",
       "</style>\n",
       "<table border=\"1\" class=\"dataframe\">\n",
       "  <thead>\n",
       "    <tr style=\"text-align: right;\">\n",
       "      <th></th>\n",
       "      <th>null</th>\n",
       "    </tr>\n",
       "  </thead>\n",
       "  <tbody>\n",
       "    <tr>\n",
       "      <th>id</th>\n",
       "      <td>0.0</td>\n",
       "    </tr>\n",
       "    <tr>\n",
       "      <th>max_rech_amt_6</th>\n",
       "      <td>0.0</td>\n",
       "    </tr>\n",
       "    <tr>\n",
       "      <th>total_rech_amt_7</th>\n",
       "      <td>0.0</td>\n",
       "    </tr>\n",
       "    <tr>\n",
       "      <th>total_rech_amt_6</th>\n",
       "      <td>0.0</td>\n",
       "    </tr>\n",
       "    <tr>\n",
       "      <th>total_rech_num_8</th>\n",
       "      <td>0.0</td>\n",
       "    </tr>\n",
       "    <tr>\n",
       "      <th>...</th>\n",
       "      <td>...</td>\n",
       "    </tr>\n",
       "    <tr>\n",
       "      <th>std_og_t2f_mou_7</th>\n",
       "      <td>0.0</td>\n",
       "    </tr>\n",
       "    <tr>\n",
       "      <th>std_og_t2f_mou_6</th>\n",
       "      <td>0.0</td>\n",
       "    </tr>\n",
       "    <tr>\n",
       "      <th>std_og_t2m_mou_8</th>\n",
       "      <td>0.0</td>\n",
       "    </tr>\n",
       "    <tr>\n",
       "      <th>std_og_t2m_mou_7</th>\n",
       "      <td>0.0</td>\n",
       "    </tr>\n",
       "    <tr>\n",
       "      <th>avg_rech_amt_6_7</th>\n",
       "      <td>0.0</td>\n",
       "    </tr>\n",
       "  </tbody>\n",
       "</table>\n",
       "<p>130 rows × 1 columns</p>\n",
       "</div>"
      ],
      "text/plain": [
       "                  null\n",
       "id                 0.0\n",
       "max_rech_amt_6     0.0\n",
       "total_rech_amt_7   0.0\n",
       "total_rech_amt_6   0.0\n",
       "total_rech_num_8   0.0\n",
       "...                ...\n",
       "std_og_t2f_mou_7   0.0\n",
       "std_og_t2f_mou_6   0.0\n",
       "std_og_t2m_mou_8   0.0\n",
       "std_og_t2m_mou_7   0.0\n",
       "avg_rech_amt_6_7   0.0\n",
       "\n",
       "[130 rows x 1 columns]"
      ]
     },
     "execution_count": 24,
     "metadata": {},
     "output_type": "execute_result"
    }
   ],
   "source": [
    "# Checking the missing values in columns again\n",
    "df_missing_cols = (round(((clean_df.isnull().sum()/len(clean_df.index))*100),2).to_frame('null')).sort_values('null', ascending=False)\n",
    "df_missing_cols"
   ]
  },
  {
   "cell_type": "code",
   "execution_count": 25,
   "metadata": {},
   "outputs": [
    {
     "data": {
      "text/plain": [
       "array(['id', 'arpu_6', 'arpu_7', 'arpu_8', 'onnet_mou_6', 'onnet_mou_7',\n",
       "       'onnet_mou_8', 'offnet_mou_6', 'offnet_mou_7', 'offnet_mou_8',\n",
       "       'roam_ic_mou_6', 'roam_ic_mou_7', 'roam_ic_mou_8', 'roam_og_mou_6',\n",
       "       'roam_og_mou_7', 'roam_og_mou_8', 'loc_og_t2t_mou_6',\n",
       "       'loc_og_t2t_mou_7', 'loc_og_t2t_mou_8', 'loc_og_t2m_mou_6',\n",
       "       'loc_og_t2m_mou_7', 'loc_og_t2m_mou_8', 'loc_og_t2f_mou_6',\n",
       "       'loc_og_t2f_mou_7', 'loc_og_t2f_mou_8', 'loc_og_t2c_mou_6',\n",
       "       'loc_og_t2c_mou_7', 'loc_og_t2c_mou_8', 'loc_og_mou_6',\n",
       "       'loc_og_mou_7', 'loc_og_mou_8', 'std_og_t2t_mou_6',\n",
       "       'std_og_t2t_mou_7', 'std_og_t2t_mou_8', 'std_og_t2m_mou_6',\n",
       "       'std_og_t2m_mou_7', 'std_og_t2m_mou_8', 'std_og_t2f_mou_6',\n",
       "       'std_og_t2f_mou_7', 'std_og_t2f_mou_8', 'std_og_mou_6',\n",
       "       'std_og_mou_7', 'std_og_mou_8', 'isd_og_mou_6', 'isd_og_mou_7',\n",
       "       'isd_og_mou_8', 'spl_og_mou_6', 'spl_og_mou_7', 'spl_og_mou_8',\n",
       "       'og_others_6', 'og_others_7', 'og_others_8', 'total_og_mou_6',\n",
       "       'total_og_mou_7', 'total_og_mou_8', 'loc_ic_t2t_mou_6',\n",
       "       'loc_ic_t2t_mou_7', 'loc_ic_t2t_mou_8', 'loc_ic_t2m_mou_6',\n",
       "       'loc_ic_t2m_mou_7', 'loc_ic_t2m_mou_8', 'loc_ic_t2f_mou_6',\n",
       "       'loc_ic_t2f_mou_7', 'loc_ic_t2f_mou_8', 'loc_ic_mou_6',\n",
       "       'loc_ic_mou_7', 'loc_ic_mou_8', 'std_ic_t2t_mou_6',\n",
       "       'std_ic_t2t_mou_7', 'std_ic_t2t_mou_8', 'std_ic_t2m_mou_6',\n",
       "       'std_ic_t2m_mou_7', 'std_ic_t2m_mou_8', 'std_ic_t2f_mou_6',\n",
       "       'std_ic_t2f_mou_7', 'std_ic_t2f_mou_8', 'std_ic_mou_6',\n",
       "       'std_ic_mou_7', 'std_ic_mou_8', 'total_ic_mou_6', 'total_ic_mou_7',\n",
       "       'total_ic_mou_8', 'spl_ic_mou_6', 'spl_ic_mou_7', 'spl_ic_mou_8',\n",
       "       'isd_ic_mou_6', 'isd_ic_mou_7', 'isd_ic_mou_8', 'ic_others_6',\n",
       "       'ic_others_7', 'ic_others_8', 'total_rech_num_6',\n",
       "       'total_rech_num_7', 'total_rech_num_8', 'total_rech_amt_6',\n",
       "       'total_rech_amt_7', 'total_rech_amt_8', 'max_rech_amt_6',\n",
       "       'max_rech_amt_7', 'max_rech_amt_8', 'date_of_last_rech_6',\n",
       "       'date_of_last_rech_7', 'date_of_last_rech_8', 'last_day_rch_amt_6',\n",
       "       'last_day_rch_amt_7', 'last_day_rch_amt_8', 'vol_2g_mb_6',\n",
       "       'vol_2g_mb_7', 'vol_2g_mb_8', 'vol_3g_mb_6', 'vol_3g_mb_7',\n",
       "       'vol_3g_mb_8', 'monthly_2g_6', 'monthly_2g_7', 'monthly_2g_8',\n",
       "       'sachet_2g_6', 'sachet_2g_7', 'sachet_2g_8', 'monthly_3g_6',\n",
       "       'monthly_3g_7', 'monthly_3g_8', 'sachet_3g_6', 'sachet_3g_7',\n",
       "       'sachet_3g_8', 'aon', 'aug_vbc_3g', 'jul_vbc_3g', 'jun_vbc_3g',\n",
       "       'churn_probability', 'avg_rech_amt_6_7'], dtype=object)"
      ]
     },
     "execution_count": 25,
     "metadata": {},
     "output_type": "execute_result"
    }
   ],
   "source": [
    "clean_df.columns.values"
   ]
  },
  {
   "cell_type": "code",
   "execution_count": 26,
   "metadata": {},
   "outputs": [],
   "source": [
    "# Churning customer records\n",
    "\n",
    "clean_df['churn'] = np.where((clean_df['total_ic_mou_8']==0) & (clean_df['total_og_mou_8']==0) & (clean_df['vol_2g_mb_8']==0) & (clean_df['vol_3g_mb_8']==0), 1, 0)"
   ]
  },
  {
   "attachments": {},
   "cell_type": "markdown",
   "metadata": {},
   "source": [
    "#### Outlier treatment"
   ]
  },
  {
   "cell_type": "code",
   "execution_count": 27,
   "metadata": {},
   "outputs": [
    {
     "data": {
      "text/plain": [
       "['id',\n",
       " 'arpu_6',\n",
       " 'arpu_7',\n",
       " 'arpu_8',\n",
       " 'onnet_mou_6',\n",
       " 'onnet_mou_7',\n",
       " 'onnet_mou_8',\n",
       " 'offnet_mou_6',\n",
       " 'offnet_mou_7',\n",
       " 'offnet_mou_8',\n",
       " 'roam_ic_mou_6',\n",
       " 'roam_ic_mou_7',\n",
       " 'roam_ic_mou_8',\n",
       " 'roam_og_mou_6',\n",
       " 'roam_og_mou_7',\n",
       " 'roam_og_mou_8',\n",
       " 'loc_og_t2t_mou_6',\n",
       " 'loc_og_t2t_mou_7',\n",
       " 'loc_og_t2t_mou_8',\n",
       " 'loc_og_t2m_mou_6',\n",
       " 'loc_og_t2m_mou_7',\n",
       " 'loc_og_t2m_mou_8',\n",
       " 'loc_og_t2f_mou_6',\n",
       " 'loc_og_t2f_mou_7',\n",
       " 'loc_og_t2f_mou_8',\n",
       " 'loc_og_t2c_mou_6',\n",
       " 'loc_og_t2c_mou_7',\n",
       " 'loc_og_t2c_mou_8',\n",
       " 'loc_og_mou_6',\n",
       " 'loc_og_mou_7',\n",
       " 'loc_og_mou_8',\n",
       " 'std_og_t2t_mou_6',\n",
       " 'std_og_t2t_mou_7',\n",
       " 'std_og_t2t_mou_8',\n",
       " 'std_og_t2m_mou_6',\n",
       " 'std_og_t2m_mou_7',\n",
       " 'std_og_t2m_mou_8',\n",
       " 'std_og_t2f_mou_6',\n",
       " 'std_og_t2f_mou_7',\n",
       " 'std_og_t2f_mou_8',\n",
       " 'std_og_mou_6',\n",
       " 'std_og_mou_7',\n",
       " 'std_og_mou_8',\n",
       " 'isd_og_mou_6',\n",
       " 'isd_og_mou_7',\n",
       " 'isd_og_mou_8',\n",
       " 'spl_og_mou_6',\n",
       " 'spl_og_mou_7',\n",
       " 'spl_og_mou_8',\n",
       " 'og_others_6',\n",
       " 'og_others_7',\n",
       " 'og_others_8',\n",
       " 'total_og_mou_6',\n",
       " 'total_og_mou_7',\n",
       " 'total_og_mou_8',\n",
       " 'loc_ic_t2t_mou_6',\n",
       " 'loc_ic_t2t_mou_7',\n",
       " 'loc_ic_t2t_mou_8',\n",
       " 'loc_ic_t2m_mou_6',\n",
       " 'loc_ic_t2m_mou_7',\n",
       " 'loc_ic_t2m_mou_8',\n",
       " 'loc_ic_t2f_mou_6',\n",
       " 'loc_ic_t2f_mou_7',\n",
       " 'loc_ic_t2f_mou_8',\n",
       " 'loc_ic_mou_6',\n",
       " 'loc_ic_mou_7',\n",
       " 'loc_ic_mou_8',\n",
       " 'std_ic_t2t_mou_6',\n",
       " 'std_ic_t2t_mou_7',\n",
       " 'std_ic_t2t_mou_8',\n",
       " 'std_ic_t2m_mou_6',\n",
       " 'std_ic_t2m_mou_7',\n",
       " 'std_ic_t2m_mou_8',\n",
       " 'std_ic_t2f_mou_6',\n",
       " 'std_ic_t2f_mou_7',\n",
       " 'std_ic_t2f_mou_8',\n",
       " 'std_ic_mou_6',\n",
       " 'std_ic_mou_7',\n",
       " 'std_ic_mou_8',\n",
       " 'total_ic_mou_6',\n",
       " 'total_ic_mou_7',\n",
       " 'total_ic_mou_8',\n",
       " 'spl_ic_mou_6',\n",
       " 'spl_ic_mou_7',\n",
       " 'spl_ic_mou_8',\n",
       " 'isd_ic_mou_6',\n",
       " 'isd_ic_mou_7',\n",
       " 'isd_ic_mou_8',\n",
       " 'ic_others_6',\n",
       " 'ic_others_7',\n",
       " 'ic_others_8',\n",
       " 'total_rech_num_6',\n",
       " 'total_rech_num_7',\n",
       " 'total_rech_num_8',\n",
       " 'total_rech_amt_6',\n",
       " 'total_rech_amt_7',\n",
       " 'total_rech_amt_8',\n",
       " 'max_rech_amt_6',\n",
       " 'max_rech_amt_7',\n",
       " 'max_rech_amt_8',\n",
       " 'last_day_rch_amt_6',\n",
       " 'last_day_rch_amt_7',\n",
       " 'last_day_rch_amt_8',\n",
       " 'vol_2g_mb_6',\n",
       " 'vol_2g_mb_7',\n",
       " 'vol_2g_mb_8',\n",
       " 'vol_3g_mb_6',\n",
       " 'vol_3g_mb_7',\n",
       " 'vol_3g_mb_8',\n",
       " 'monthly_2g_6',\n",
       " 'monthly_2g_7',\n",
       " 'monthly_2g_8',\n",
       " 'sachet_2g_6',\n",
       " 'sachet_2g_7',\n",
       " 'sachet_2g_8',\n",
       " 'monthly_3g_6',\n",
       " 'monthly_3g_7',\n",
       " 'monthly_3g_8',\n",
       " 'sachet_3g_6',\n",
       " 'sachet_3g_7',\n",
       " 'sachet_3g_8',\n",
       " 'aon',\n",
       " 'aug_vbc_3g',\n",
       " 'jul_vbc_3g',\n",
       " 'jun_vbc_3g',\n",
       " 'churn_probability',\n",
       " 'avg_rech_amt_6_7',\n",
       " 'churn']"
      ]
     },
     "execution_count": 27,
     "metadata": {},
     "output_type": "execute_result"
    }
   ],
   "source": [
    "numeric_features= [i for i in clean_df.columns if 'object' not in clean_df[i].dtype.name]\n",
    "numeric_features"
   ]
  },
  {
   "cell_type": "code",
   "execution_count": 28,
   "metadata": {},
   "outputs": [
    {
     "data": {
      "text/plain": [
       "(31028, 131)"
      ]
     },
     "execution_count": 28,
     "metadata": {},
     "output_type": "execute_result"
    }
   ],
   "source": [
    "clean_df.shape"
   ]
  },
  {
   "cell_type": "code",
   "execution_count": 29,
   "metadata": {},
   "outputs": [
    {
     "data": {
      "text/plain": [
       "(25777, 131)"
      ]
     },
     "execution_count": 29,
     "metadata": {},
     "output_type": "execute_result"
    }
   ],
   "source": [
    "# Removing outliers below 10th and above 90th percentile\n",
    "for col in numeric_features: \n",
    "    q1 = clean_df[col].quantile(0.05)\n",
    "    q3 = clean_df[col].quantile(0.99)\n",
    "    iqr = q3-q1\n",
    "    range_low  = q1-1*iqr\n",
    "    range_high = q3+1*iqr\n",
    "    # Assigning the filtered dataset into data\n",
    "    new_clean_df = clean_df.loc[(clean_df[col] > range_low) & (clean_df[col] < range_high)]\n",
    "    if len(new_clean_df)>0 :\n",
    "        clean_df = new_clean_df\n",
    "\n",
    "clean_df.shape"
   ]
  },
  {
   "cell_type": "code",
   "execution_count": 30,
   "metadata": {},
   "outputs": [
    {
     "data": {
      "text/plain": [
       "['total_og_mou_6',\n",
       " 'total_og_mou_7',\n",
       " 'total_og_mou_8',\n",
       " 'total_ic_mou_6',\n",
       " 'total_ic_mou_7',\n",
       " 'total_ic_mou_8',\n",
       " 'total_rech_num_6',\n",
       " 'total_rech_num_7',\n",
       " 'total_rech_num_8',\n",
       " 'total_rech_amt_6',\n",
       " 'total_rech_amt_7',\n",
       " 'total_rech_amt_8']"
      ]
     },
     "execution_count": 30,
     "metadata": {},
     "output_type": "execute_result"
    }
   ],
   "source": [
    "# List the columns of total mou, rech_num and rech_amt\n",
    "[total for total in clean_df.columns.to_list() if 'total' in total]"
   ]
  },
  {
   "attachments": {},
   "cell_type": "markdown",
   "metadata": {},
   "source": [
    "Determine customer behavior over the month (June, July and Aug)"
   ]
  },
  {
   "cell_type": "code",
   "execution_count": 31,
   "metadata": {},
   "outputs": [],
   "source": [
    "# Total mou at good phase incoming and outgoing\n",
    "clean_df['total_mou_good'] = (clean_df['total_og_mou_6'] + clean_df['total_ic_mou_6'])"
   ]
  },
  {
   "cell_type": "code",
   "execution_count": 32,
   "metadata": {},
   "outputs": [],
   "source": [
    "# Avg. mou at action phase\n",
    "# Taking average because there are two months(7 and 8) in action phase\n",
    "clean_df['avg_mou_aug'] = (clean_df['total_og_mou_7'] + clean_df['total_og_mou_8'] + clean_df['total_ic_mou_7'] + clean_df['total_ic_mou_8'])/2"
   ]
  },
  {
   "cell_type": "code",
   "execution_count": 33,
   "metadata": {},
   "outputs": [],
   "source": [
    "# Difference avg_mou_good and avg_mouaug\n",
    "clean_df['diff_mou'] = clean_df['avg_mou_aug'] - clean_df['total_mou_good']"
   ]
  },
  {
   "cell_type": "code",
   "execution_count": 34,
   "metadata": {},
   "outputs": [
    {
     "data": {
      "text/html": [
       "<div>\n",
       "<style scoped>\n",
       "    .dataframe tbody tr th:only-of-type {\n",
       "        vertical-align: middle;\n",
       "    }\n",
       "\n",
       "    .dataframe tbody tr th {\n",
       "        vertical-align: top;\n",
       "    }\n",
       "\n",
       "    .dataframe thead th {\n",
       "        text-align: right;\n",
       "    }\n",
       "</style>\n",
       "<table border=\"1\" class=\"dataframe\">\n",
       "  <thead>\n",
       "    <tr style=\"text-align: right;\">\n",
       "      <th></th>\n",
       "      <th>id</th>\n",
       "      <th>arpu_6</th>\n",
       "      <th>arpu_7</th>\n",
       "      <th>arpu_8</th>\n",
       "      <th>onnet_mou_6</th>\n",
       "      <th>onnet_mou_7</th>\n",
       "      <th>onnet_mou_8</th>\n",
       "      <th>offnet_mou_6</th>\n",
       "      <th>offnet_mou_7</th>\n",
       "      <th>offnet_mou_8</th>\n",
       "      <th>...</th>\n",
       "      <th>aug_vbc_3g</th>\n",
       "      <th>jul_vbc_3g</th>\n",
       "      <th>jun_vbc_3g</th>\n",
       "      <th>churn_probability</th>\n",
       "      <th>avg_rech_amt_6_7</th>\n",
       "      <th>churn</th>\n",
       "      <th>total_mou_good</th>\n",
       "      <th>avg_mou_aug</th>\n",
       "      <th>diff_mou</th>\n",
       "      <th>decrease_mou_aug</th>\n",
       "    </tr>\n",
       "  </thead>\n",
       "  <tbody>\n",
       "    <tr>\n",
       "      <th>11</th>\n",
       "      <td>11</td>\n",
       "      <td>292.724</td>\n",
       "      <td>228.753</td>\n",
       "      <td>418.233</td>\n",
       "      <td>135.54</td>\n",
       "      <td>63.61</td>\n",
       "      <td>177.36</td>\n",
       "      <td>46.39</td>\n",
       "      <td>65.48</td>\n",
       "      <td>92.81</td>\n",
       "      <td>...</td>\n",
       "      <td>0.0</td>\n",
       "      <td>0.0</td>\n",
       "      <td>0.0</td>\n",
       "      <td>0</td>\n",
       "      <td>315.0</td>\n",
       "      <td>0</td>\n",
       "      <td>315.87</td>\n",
       "      <td>418.140</td>\n",
       "      <td>102.270</td>\n",
       "      <td>0</td>\n",
       "    </tr>\n",
       "    <tr>\n",
       "      <th>12</th>\n",
       "      <td>12</td>\n",
       "      <td>439.919</td>\n",
       "      <td>397.946</td>\n",
       "      <td>392.024</td>\n",
       "      <td>244.46</td>\n",
       "      <td>108.31</td>\n",
       "      <td>42.98</td>\n",
       "      <td>571.98</td>\n",
       "      <td>727.91</td>\n",
       "      <td>644.43</td>\n",
       "      <td>...</td>\n",
       "      <td>0.0</td>\n",
       "      <td>0.0</td>\n",
       "      <td>0.0</td>\n",
       "      <td>0</td>\n",
       "      <td>469.5</td>\n",
       "      <td>0</td>\n",
       "      <td>850.93</td>\n",
       "      <td>792.985</td>\n",
       "      <td>-57.945</td>\n",
       "      <td>1</td>\n",
       "    </tr>\n",
       "    <tr>\n",
       "      <th>14</th>\n",
       "      <td>14</td>\n",
       "      <td>340.266</td>\n",
       "      <td>205.397</td>\n",
       "      <td>191.780</td>\n",
       "      <td>123.76</td>\n",
       "      <td>116.34</td>\n",
       "      <td>75.93</td>\n",
       "      <td>98.51</td>\n",
       "      <td>94.11</td>\n",
       "      <td>150.61</td>\n",
       "      <td>...</td>\n",
       "      <td>0.0</td>\n",
       "      <td>0.0</td>\n",
       "      <td>0.0</td>\n",
       "      <td>0</td>\n",
       "      <td>350.0</td>\n",
       "      <td>0</td>\n",
       "      <td>643.39</td>\n",
       "      <td>572.090</td>\n",
       "      <td>-71.300</td>\n",
       "      <td>1</td>\n",
       "    </tr>\n",
       "    <tr>\n",
       "      <th>15</th>\n",
       "      <td>15</td>\n",
       "      <td>580.549</td>\n",
       "      <td>377.294</td>\n",
       "      <td>338.286</td>\n",
       "      <td>10.43</td>\n",
       "      <td>24.99</td>\n",
       "      <td>194.43</td>\n",
       "      <td>317.11</td>\n",
       "      <td>341.79</td>\n",
       "      <td>197.09</td>\n",
       "      <td>...</td>\n",
       "      <td>0.0</td>\n",
       "      <td>0.0</td>\n",
       "      <td>0.0</td>\n",
       "      <td>0</td>\n",
       "      <td>527.0</td>\n",
       "      <td>0</td>\n",
       "      <td>560.82</td>\n",
       "      <td>1082.825</td>\n",
       "      <td>522.005</td>\n",
       "      <td>0</td>\n",
       "    </tr>\n",
       "    <tr>\n",
       "      <th>22</th>\n",
       "      <td>22</td>\n",
       "      <td>277.458</td>\n",
       "      <td>283.346</td>\n",
       "      <td>231.755</td>\n",
       "      <td>179.54</td>\n",
       "      <td>287.98</td>\n",
       "      <td>155.16</td>\n",
       "      <td>335.41</td>\n",
       "      <td>255.18</td>\n",
       "      <td>281.06</td>\n",
       "      <td>...</td>\n",
       "      <td>0.0</td>\n",
       "      <td>0.0</td>\n",
       "      <td>0.0</td>\n",
       "      <td>0</td>\n",
       "      <td>366.0</td>\n",
       "      <td>0</td>\n",
       "      <td>736.52</td>\n",
       "      <td>1045.175</td>\n",
       "      <td>308.655</td>\n",
       "      <td>0</td>\n",
       "    </tr>\n",
       "  </tbody>\n",
       "</table>\n",
       "<p>5 rows × 135 columns</p>\n",
       "</div>"
      ],
      "text/plain": [
       "    id   arpu_6   arpu_7   arpu_8  onnet_mou_6  onnet_mou_7  onnet_mou_8  \\\n",
       "11  11  292.724  228.753  418.233       135.54        63.61       177.36   \n",
       "12  12  439.919  397.946  392.024       244.46       108.31        42.98   \n",
       "14  14  340.266  205.397  191.780       123.76       116.34        75.93   \n",
       "15  15  580.549  377.294  338.286        10.43        24.99       194.43   \n",
       "22  22  277.458  283.346  231.755       179.54       287.98       155.16   \n",
       "\n",
       "    offnet_mou_6  offnet_mou_7  offnet_mou_8  ...  aug_vbc_3g  jul_vbc_3g  \\\n",
       "11         46.39         65.48         92.81  ...         0.0         0.0   \n",
       "12        571.98        727.91        644.43  ...         0.0         0.0   \n",
       "14         98.51         94.11        150.61  ...         0.0         0.0   \n",
       "15        317.11        341.79        197.09  ...         0.0         0.0   \n",
       "22        335.41        255.18        281.06  ...         0.0         0.0   \n",
       "\n",
       "    jun_vbc_3g  churn_probability  avg_rech_amt_6_7  churn  total_mou_good  \\\n",
       "11         0.0                  0             315.0      0          315.87   \n",
       "12         0.0                  0             469.5      0          850.93   \n",
       "14         0.0                  0             350.0      0          643.39   \n",
       "15         0.0                  0             527.0      0          560.82   \n",
       "22         0.0                  0             366.0      0          736.52   \n",
       "\n",
       "    avg_mou_aug  diff_mou  decrease_mou_aug  \n",
       "11      418.140   102.270                 0  \n",
       "12      792.985   -57.945                 1  \n",
       "14      572.090   -71.300                 1  \n",
       "15     1082.825   522.005                 0  \n",
       "22     1045.175   308.655                 0  \n",
       "\n",
       "[5 rows x 135 columns]"
      ]
     },
     "execution_count": 34,
     "metadata": {},
     "output_type": "execute_result"
    }
   ],
   "source": [
    "# Checking whether the mou has decreased in action phase\n",
    "clean_df['decrease_mou_aug'] = np.where((clean_df['diff_mou'] < 0), 1, 0)\n",
    "clean_df.head()"
   ]
  },
  {
   "attachments": {},
   "cell_type": "markdown",
   "metadata": {},
   "source": [
    "Determine customer behavior based on recharge frequency if decreses/increases"
   ]
  },
  {
   "cell_type": "code",
   "execution_count": 35,
   "metadata": {},
   "outputs": [],
   "source": [
    "# Avg rech number at aug and take difference of total_rech_num_6 and avg_rech_aug\n",
    "clean_df['avg_rech_num_aug'] = (clean_df['total_rech_num_7'] + clean_df['total_rech_num_8'])/2\n",
    "clean_df['diff_rech_num'] = clean_df['avg_rech_num_aug'] - clean_df['total_rech_num_6']"
   ]
  },
  {
   "cell_type": "code",
   "execution_count": 36,
   "metadata": {},
   "outputs": [
    {
     "data": {
      "text/html": [
       "<div>\n",
       "<style scoped>\n",
       "    .dataframe tbody tr th:only-of-type {\n",
       "        vertical-align: middle;\n",
       "    }\n",
       "\n",
       "    .dataframe tbody tr th {\n",
       "        vertical-align: top;\n",
       "    }\n",
       "\n",
       "    .dataframe thead th {\n",
       "        text-align: right;\n",
       "    }\n",
       "</style>\n",
       "<table border=\"1\" class=\"dataframe\">\n",
       "  <thead>\n",
       "    <tr style=\"text-align: right;\">\n",
       "      <th></th>\n",
       "      <th>id</th>\n",
       "      <th>arpu_6</th>\n",
       "      <th>arpu_7</th>\n",
       "      <th>arpu_8</th>\n",
       "      <th>onnet_mou_6</th>\n",
       "      <th>onnet_mou_7</th>\n",
       "      <th>onnet_mou_8</th>\n",
       "      <th>offnet_mou_6</th>\n",
       "      <th>offnet_mou_7</th>\n",
       "      <th>offnet_mou_8</th>\n",
       "      <th>...</th>\n",
       "      <th>churn_probability</th>\n",
       "      <th>avg_rech_amt_6_7</th>\n",
       "      <th>churn</th>\n",
       "      <th>total_mou_good</th>\n",
       "      <th>avg_mou_aug</th>\n",
       "      <th>diff_mou</th>\n",
       "      <th>decrease_mou_aug</th>\n",
       "      <th>avg_rech_num_aug</th>\n",
       "      <th>diff_rech_num</th>\n",
       "      <th>decrease_rech_num_aug</th>\n",
       "    </tr>\n",
       "  </thead>\n",
       "  <tbody>\n",
       "    <tr>\n",
       "      <th>11</th>\n",
       "      <td>11</td>\n",
       "      <td>292.724</td>\n",
       "      <td>228.753</td>\n",
       "      <td>418.233</td>\n",
       "      <td>135.54</td>\n",
       "      <td>63.61</td>\n",
       "      <td>177.36</td>\n",
       "      <td>46.39</td>\n",
       "      <td>65.48</td>\n",
       "      <td>92.81</td>\n",
       "      <td>...</td>\n",
       "      <td>0</td>\n",
       "      <td>315.0</td>\n",
       "      <td>0</td>\n",
       "      <td>315.87</td>\n",
       "      <td>418.140</td>\n",
       "      <td>102.270</td>\n",
       "      <td>0</td>\n",
       "      <td>7.0</td>\n",
       "      <td>-3.0</td>\n",
       "      <td>1</td>\n",
       "    </tr>\n",
       "    <tr>\n",
       "      <th>12</th>\n",
       "      <td>12</td>\n",
       "      <td>439.919</td>\n",
       "      <td>397.946</td>\n",
       "      <td>392.024</td>\n",
       "      <td>244.46</td>\n",
       "      <td>108.31</td>\n",
       "      <td>42.98</td>\n",
       "      <td>571.98</td>\n",
       "      <td>727.91</td>\n",
       "      <td>644.43</td>\n",
       "      <td>...</td>\n",
       "      <td>0</td>\n",
       "      <td>469.5</td>\n",
       "      <td>0</td>\n",
       "      <td>850.93</td>\n",
       "      <td>792.985</td>\n",
       "      <td>-57.945</td>\n",
       "      <td>1</td>\n",
       "      <td>15.0</td>\n",
       "      <td>0.0</td>\n",
       "      <td>0</td>\n",
       "    </tr>\n",
       "    <tr>\n",
       "      <th>14</th>\n",
       "      <td>14</td>\n",
       "      <td>340.266</td>\n",
       "      <td>205.397</td>\n",
       "      <td>191.780</td>\n",
       "      <td>123.76</td>\n",
       "      <td>116.34</td>\n",
       "      <td>75.93</td>\n",
       "      <td>98.51</td>\n",
       "      <td>94.11</td>\n",
       "      <td>150.61</td>\n",
       "      <td>...</td>\n",
       "      <td>0</td>\n",
       "      <td>350.0</td>\n",
       "      <td>0</td>\n",
       "      <td>643.39</td>\n",
       "      <td>572.090</td>\n",
       "      <td>-71.300</td>\n",
       "      <td>1</td>\n",
       "      <td>2.5</td>\n",
       "      <td>-4.5</td>\n",
       "      <td>1</td>\n",
       "    </tr>\n",
       "    <tr>\n",
       "      <th>15</th>\n",
       "      <td>15</td>\n",
       "      <td>580.549</td>\n",
       "      <td>377.294</td>\n",
       "      <td>338.286</td>\n",
       "      <td>10.43</td>\n",
       "      <td>24.99</td>\n",
       "      <td>194.43</td>\n",
       "      <td>317.11</td>\n",
       "      <td>341.79</td>\n",
       "      <td>197.09</td>\n",
       "      <td>...</td>\n",
       "      <td>0</td>\n",
       "      <td>527.0</td>\n",
       "      <td>0</td>\n",
       "      <td>560.82</td>\n",
       "      <td>1082.825</td>\n",
       "      <td>522.005</td>\n",
       "      <td>0</td>\n",
       "      <td>3.5</td>\n",
       "      <td>-1.5</td>\n",
       "      <td>1</td>\n",
       "    </tr>\n",
       "    <tr>\n",
       "      <th>22</th>\n",
       "      <td>22</td>\n",
       "      <td>277.458</td>\n",
       "      <td>283.346</td>\n",
       "      <td>231.755</td>\n",
       "      <td>179.54</td>\n",
       "      <td>287.98</td>\n",
       "      <td>155.16</td>\n",
       "      <td>335.41</td>\n",
       "      <td>255.18</td>\n",
       "      <td>281.06</td>\n",
       "      <td>...</td>\n",
       "      <td>0</td>\n",
       "      <td>366.0</td>\n",
       "      <td>0</td>\n",
       "      <td>736.52</td>\n",
       "      <td>1045.175</td>\n",
       "      <td>308.655</td>\n",
       "      <td>0</td>\n",
       "      <td>4.0</td>\n",
       "      <td>-2.0</td>\n",
       "      <td>1</td>\n",
       "    </tr>\n",
       "  </tbody>\n",
       "</table>\n",
       "<p>5 rows × 138 columns</p>\n",
       "</div>"
      ],
      "text/plain": [
       "    id   arpu_6   arpu_7   arpu_8  onnet_mou_6  onnet_mou_7  onnet_mou_8  \\\n",
       "11  11  292.724  228.753  418.233       135.54        63.61       177.36   \n",
       "12  12  439.919  397.946  392.024       244.46       108.31        42.98   \n",
       "14  14  340.266  205.397  191.780       123.76       116.34        75.93   \n",
       "15  15  580.549  377.294  338.286        10.43        24.99       194.43   \n",
       "22  22  277.458  283.346  231.755       179.54       287.98       155.16   \n",
       "\n",
       "    offnet_mou_6  offnet_mou_7  offnet_mou_8  ...  churn_probability  \\\n",
       "11         46.39         65.48         92.81  ...                  0   \n",
       "12        571.98        727.91        644.43  ...                  0   \n",
       "14         98.51         94.11        150.61  ...                  0   \n",
       "15        317.11        341.79        197.09  ...                  0   \n",
       "22        335.41        255.18        281.06  ...                  0   \n",
       "\n",
       "    avg_rech_amt_6_7  churn  total_mou_good  avg_mou_aug  diff_mou  \\\n",
       "11             315.0      0          315.87      418.140   102.270   \n",
       "12             469.5      0          850.93      792.985   -57.945   \n",
       "14             350.0      0          643.39      572.090   -71.300   \n",
       "15             527.0      0          560.82     1082.825   522.005   \n",
       "22             366.0      0          736.52     1045.175   308.655   \n",
       "\n",
       "    decrease_mou_aug  avg_rech_num_aug  diff_rech_num  decrease_rech_num_aug  \n",
       "11                 0               7.0           -3.0                      1  \n",
       "12                 1              15.0            0.0                      0  \n",
       "14                 1               2.5           -4.5                      1  \n",
       "15                 0               3.5           -1.5                      1  \n",
       "22                 0               4.0           -2.0                      1  \n",
       "\n",
       "[5 rows x 138 columns]"
      ]
     },
     "execution_count": 36,
     "metadata": {},
     "output_type": "execute_result"
    }
   ],
   "source": [
    "# Checking if rech_num has decreased in action phase\n",
    "clean_df['decrease_rech_num_aug'] = np.where((clean_df['diff_rech_num'] < 0), 1, 0)\n",
    "clean_df.head()"
   ]
  },
  {
   "cell_type": "code",
   "execution_count": 37,
   "metadata": {},
   "outputs": [
    {
     "data": {
      "text/html": [
       "<div>\n",
       "<style scoped>\n",
       "    .dataframe tbody tr th:only-of-type {\n",
       "        vertical-align: middle;\n",
       "    }\n",
       "\n",
       "    .dataframe tbody tr th {\n",
       "        vertical-align: top;\n",
       "    }\n",
       "\n",
       "    .dataframe thead th {\n",
       "        text-align: right;\n",
       "    }\n",
       "</style>\n",
       "<table border=\"1\" class=\"dataframe\">\n",
       "  <thead>\n",
       "    <tr style=\"text-align: right;\">\n",
       "      <th></th>\n",
       "      <th>id</th>\n",
       "      <th>arpu_6</th>\n",
       "      <th>arpu_7</th>\n",
       "      <th>arpu_8</th>\n",
       "      <th>onnet_mou_6</th>\n",
       "      <th>onnet_mou_7</th>\n",
       "      <th>onnet_mou_8</th>\n",
       "      <th>offnet_mou_6</th>\n",
       "      <th>offnet_mou_7</th>\n",
       "      <th>offnet_mou_8</th>\n",
       "      <th>...</th>\n",
       "      <th>total_mou_good</th>\n",
       "      <th>avg_mou_aug</th>\n",
       "      <th>diff_mou</th>\n",
       "      <th>decrease_mou_aug</th>\n",
       "      <th>avg_rech_num_aug</th>\n",
       "      <th>diff_rech_num</th>\n",
       "      <th>decrease_rech_num_aug</th>\n",
       "      <th>avg_rech_amt_aug</th>\n",
       "      <th>diff_rech_amt</th>\n",
       "      <th>decrease_rech_amt_aug</th>\n",
       "    </tr>\n",
       "  </thead>\n",
       "  <tbody>\n",
       "    <tr>\n",
       "      <th>11</th>\n",
       "      <td>11</td>\n",
       "      <td>292.724</td>\n",
       "      <td>228.753</td>\n",
       "      <td>418.233</td>\n",
       "      <td>135.54</td>\n",
       "      <td>63.61</td>\n",
       "      <td>177.36</td>\n",
       "      <td>46.39</td>\n",
       "      <td>65.48</td>\n",
       "      <td>92.81</td>\n",
       "      <td>...</td>\n",
       "      <td>315.87</td>\n",
       "      <td>418.140</td>\n",
       "      <td>102.270</td>\n",
       "      <td>0</td>\n",
       "      <td>7.0</td>\n",
       "      <td>-3.0</td>\n",
       "      <td>1</td>\n",
       "      <td>340.0</td>\n",
       "      <td>-70.0</td>\n",
       "      <td>1</td>\n",
       "    </tr>\n",
       "    <tr>\n",
       "      <th>12</th>\n",
       "      <td>12</td>\n",
       "      <td>439.919</td>\n",
       "      <td>397.946</td>\n",
       "      <td>392.024</td>\n",
       "      <td>244.46</td>\n",
       "      <td>108.31</td>\n",
       "      <td>42.98</td>\n",
       "      <td>571.98</td>\n",
       "      <td>727.91</td>\n",
       "      <td>644.43</td>\n",
       "      <td>...</td>\n",
       "      <td>850.93</td>\n",
       "      <td>792.985</td>\n",
       "      <td>-57.945</td>\n",
       "      <td>1</td>\n",
       "      <td>15.0</td>\n",
       "      <td>0.0</td>\n",
       "      <td>0</td>\n",
       "      <td>391.5</td>\n",
       "      <td>-129.5</td>\n",
       "      <td>1</td>\n",
       "    </tr>\n",
       "    <tr>\n",
       "      <th>14</th>\n",
       "      <td>14</td>\n",
       "      <td>340.266</td>\n",
       "      <td>205.397</td>\n",
       "      <td>191.780</td>\n",
       "      <td>123.76</td>\n",
       "      <td>116.34</td>\n",
       "      <td>75.93</td>\n",
       "      <td>98.51</td>\n",
       "      <td>94.11</td>\n",
       "      <td>150.61</td>\n",
       "      <td>...</td>\n",
       "      <td>643.39</td>\n",
       "      <td>572.090</td>\n",
       "      <td>-71.300</td>\n",
       "      <td>1</td>\n",
       "      <td>2.5</td>\n",
       "      <td>-4.5</td>\n",
       "      <td>1</td>\n",
       "      <td>235.0</td>\n",
       "      <td>-295.0</td>\n",
       "      <td>1</td>\n",
       "    </tr>\n",
       "    <tr>\n",
       "      <th>15</th>\n",
       "      <td>15</td>\n",
       "      <td>580.549</td>\n",
       "      <td>377.294</td>\n",
       "      <td>338.286</td>\n",
       "      <td>10.43</td>\n",
       "      <td>24.99</td>\n",
       "      <td>194.43</td>\n",
       "      <td>317.11</td>\n",
       "      <td>341.79</td>\n",
       "      <td>197.09</td>\n",
       "      <td>...</td>\n",
       "      <td>560.82</td>\n",
       "      <td>1082.825</td>\n",
       "      <td>522.005</td>\n",
       "      <td>0</td>\n",
       "      <td>3.5</td>\n",
       "      <td>-1.5</td>\n",
       "      <td>1</td>\n",
       "      <td>526.0</td>\n",
       "      <td>-128.0</td>\n",
       "      <td>1</td>\n",
       "    </tr>\n",
       "    <tr>\n",
       "      <th>22</th>\n",
       "      <td>22</td>\n",
       "      <td>277.458</td>\n",
       "      <td>283.346</td>\n",
       "      <td>231.755</td>\n",
       "      <td>179.54</td>\n",
       "      <td>287.98</td>\n",
       "      <td>155.16</td>\n",
       "      <td>335.41</td>\n",
       "      <td>255.18</td>\n",
       "      <td>281.06</td>\n",
       "      <td>...</td>\n",
       "      <td>736.52</td>\n",
       "      <td>1045.175</td>\n",
       "      <td>308.655</td>\n",
       "      <td>0</td>\n",
       "      <td>4.0</td>\n",
       "      <td>-2.0</td>\n",
       "      <td>1</td>\n",
       "      <td>349.0</td>\n",
       "      <td>-12.0</td>\n",
       "      <td>1</td>\n",
       "    </tr>\n",
       "  </tbody>\n",
       "</table>\n",
       "<p>5 rows × 141 columns</p>\n",
       "</div>"
      ],
      "text/plain": [
       "    id   arpu_6   arpu_7   arpu_8  onnet_mou_6  onnet_mou_7  onnet_mou_8  \\\n",
       "11  11  292.724  228.753  418.233       135.54        63.61       177.36   \n",
       "12  12  439.919  397.946  392.024       244.46       108.31        42.98   \n",
       "14  14  340.266  205.397  191.780       123.76       116.34        75.93   \n",
       "15  15  580.549  377.294  338.286        10.43        24.99       194.43   \n",
       "22  22  277.458  283.346  231.755       179.54       287.98       155.16   \n",
       "\n",
       "    offnet_mou_6  offnet_mou_7  offnet_mou_8  ...  total_mou_good  \\\n",
       "11         46.39         65.48         92.81  ...          315.87   \n",
       "12        571.98        727.91        644.43  ...          850.93   \n",
       "14         98.51         94.11        150.61  ...          643.39   \n",
       "15        317.11        341.79        197.09  ...          560.82   \n",
       "22        335.41        255.18        281.06  ...          736.52   \n",
       "\n",
       "    avg_mou_aug  diff_mou  decrease_mou_aug  avg_rech_num_aug  diff_rech_num  \\\n",
       "11      418.140   102.270                 0               7.0           -3.0   \n",
       "12      792.985   -57.945                 1              15.0            0.0   \n",
       "14      572.090   -71.300                 1               2.5           -4.5   \n",
       "15     1082.825   522.005                 0               3.5           -1.5   \n",
       "22     1045.175   308.655                 0               4.0           -2.0   \n",
       "\n",
       "    decrease_rech_num_aug  avg_rech_amt_aug  diff_rech_amt  \\\n",
       "11                      1             340.0          -70.0   \n",
       "12                      0             391.5         -129.5   \n",
       "14                      1             235.0         -295.0   \n",
       "15                      1             526.0         -128.0   \n",
       "22                      1             349.0          -12.0   \n",
       "\n",
       "    decrease_rech_amt_aug  \n",
       "11                      1  \n",
       "12                      1  \n",
       "14                      1  \n",
       "15                      1  \n",
       "22                      1  \n",
       "\n",
       "[5 rows x 141 columns]"
      ]
     },
     "execution_count": 37,
     "metadata": {},
     "output_type": "execute_result"
    }
   ],
   "source": [
    "# Avg rech_amt in action phase and take difference of action phase rech amt and good phase rech amt\n",
    "clean_df['avg_rech_amt_aug'] = (clean_df['total_rech_amt_7'] + clean_df['total_rech_amt_8'])/2\n",
    "clean_df['diff_rech_amt'] = clean_df['avg_rech_amt_aug'] - clean_df['total_rech_amt_6']\n",
    "# Checking if rech_amt has decreased in action phase\n",
    "clean_df['decrease_rech_amt_aug'] = np.where((clean_df['diff_rech_amt'] < 0), 1, 0) \n",
    "clean_df.head()"
   ]
  },
  {
   "cell_type": "code",
   "execution_count": 38,
   "metadata": {},
   "outputs": [
    {
     "data": {
      "text/html": [
       "<div>\n",
       "<style scoped>\n",
       "    .dataframe tbody tr th:only-of-type {\n",
       "        vertical-align: middle;\n",
       "    }\n",
       "\n",
       "    .dataframe tbody tr th {\n",
       "        vertical-align: top;\n",
       "    }\n",
       "\n",
       "    .dataframe thead th {\n",
       "        text-align: right;\n",
       "    }\n",
       "</style>\n",
       "<table border=\"1\" class=\"dataframe\">\n",
       "  <thead>\n",
       "    <tr style=\"text-align: right;\">\n",
       "      <th></th>\n",
       "      <th>id</th>\n",
       "      <th>arpu_6</th>\n",
       "      <th>arpu_7</th>\n",
       "      <th>arpu_8</th>\n",
       "      <th>onnet_mou_6</th>\n",
       "      <th>onnet_mou_7</th>\n",
       "      <th>onnet_mou_8</th>\n",
       "      <th>offnet_mou_6</th>\n",
       "      <th>offnet_mou_7</th>\n",
       "      <th>offnet_mou_8</th>\n",
       "      <th>...</th>\n",
       "      <th>decrease_mou_aug</th>\n",
       "      <th>avg_rech_num_aug</th>\n",
       "      <th>diff_rech_num</th>\n",
       "      <th>decrease_rech_num_aug</th>\n",
       "      <th>avg_rech_amt_aug</th>\n",
       "      <th>diff_rech_amt</th>\n",
       "      <th>decrease_rech_amt_aug</th>\n",
       "      <th>avg_vbc_3g_aug</th>\n",
       "      <th>diff_vbc</th>\n",
       "      <th>decrease_vbc_aug</th>\n",
       "    </tr>\n",
       "  </thead>\n",
       "  <tbody>\n",
       "    <tr>\n",
       "      <th>11</th>\n",
       "      <td>11</td>\n",
       "      <td>292.724</td>\n",
       "      <td>228.753</td>\n",
       "      <td>418.233</td>\n",
       "      <td>135.54</td>\n",
       "      <td>63.61</td>\n",
       "      <td>177.36</td>\n",
       "      <td>46.39</td>\n",
       "      <td>65.48</td>\n",
       "      <td>92.81</td>\n",
       "      <td>...</td>\n",
       "      <td>0</td>\n",
       "      <td>7.0</td>\n",
       "      <td>-3.0</td>\n",
       "      <td>1</td>\n",
       "      <td>340.0</td>\n",
       "      <td>-70.0</td>\n",
       "      <td>1</td>\n",
       "      <td>0.0</td>\n",
       "      <td>0.0</td>\n",
       "      <td>0</td>\n",
       "    </tr>\n",
       "    <tr>\n",
       "      <th>12</th>\n",
       "      <td>12</td>\n",
       "      <td>439.919</td>\n",
       "      <td>397.946</td>\n",
       "      <td>392.024</td>\n",
       "      <td>244.46</td>\n",
       "      <td>108.31</td>\n",
       "      <td>42.98</td>\n",
       "      <td>571.98</td>\n",
       "      <td>727.91</td>\n",
       "      <td>644.43</td>\n",
       "      <td>...</td>\n",
       "      <td>1</td>\n",
       "      <td>15.0</td>\n",
       "      <td>0.0</td>\n",
       "      <td>0</td>\n",
       "      <td>391.5</td>\n",
       "      <td>-129.5</td>\n",
       "      <td>1</td>\n",
       "      <td>0.0</td>\n",
       "      <td>0.0</td>\n",
       "      <td>0</td>\n",
       "    </tr>\n",
       "    <tr>\n",
       "      <th>14</th>\n",
       "      <td>14</td>\n",
       "      <td>340.266</td>\n",
       "      <td>205.397</td>\n",
       "      <td>191.780</td>\n",
       "      <td>123.76</td>\n",
       "      <td>116.34</td>\n",
       "      <td>75.93</td>\n",
       "      <td>98.51</td>\n",
       "      <td>94.11</td>\n",
       "      <td>150.61</td>\n",
       "      <td>...</td>\n",
       "      <td>1</td>\n",
       "      <td>2.5</td>\n",
       "      <td>-4.5</td>\n",
       "      <td>1</td>\n",
       "      <td>235.0</td>\n",
       "      <td>-295.0</td>\n",
       "      <td>1</td>\n",
       "      <td>0.0</td>\n",
       "      <td>0.0</td>\n",
       "      <td>0</td>\n",
       "    </tr>\n",
       "    <tr>\n",
       "      <th>15</th>\n",
       "      <td>15</td>\n",
       "      <td>580.549</td>\n",
       "      <td>377.294</td>\n",
       "      <td>338.286</td>\n",
       "      <td>10.43</td>\n",
       "      <td>24.99</td>\n",
       "      <td>194.43</td>\n",
       "      <td>317.11</td>\n",
       "      <td>341.79</td>\n",
       "      <td>197.09</td>\n",
       "      <td>...</td>\n",
       "      <td>0</td>\n",
       "      <td>3.5</td>\n",
       "      <td>-1.5</td>\n",
       "      <td>1</td>\n",
       "      <td>526.0</td>\n",
       "      <td>-128.0</td>\n",
       "      <td>1</td>\n",
       "      <td>0.0</td>\n",
       "      <td>0.0</td>\n",
       "      <td>0</td>\n",
       "    </tr>\n",
       "    <tr>\n",
       "      <th>22</th>\n",
       "      <td>22</td>\n",
       "      <td>277.458</td>\n",
       "      <td>283.346</td>\n",
       "      <td>231.755</td>\n",
       "      <td>179.54</td>\n",
       "      <td>287.98</td>\n",
       "      <td>155.16</td>\n",
       "      <td>335.41</td>\n",
       "      <td>255.18</td>\n",
       "      <td>281.06</td>\n",
       "      <td>...</td>\n",
       "      <td>0</td>\n",
       "      <td>4.0</td>\n",
       "      <td>-2.0</td>\n",
       "      <td>1</td>\n",
       "      <td>349.0</td>\n",
       "      <td>-12.0</td>\n",
       "      <td>1</td>\n",
       "      <td>0.0</td>\n",
       "      <td>0.0</td>\n",
       "      <td>0</td>\n",
       "    </tr>\n",
       "  </tbody>\n",
       "</table>\n",
       "<p>5 rows × 144 columns</p>\n",
       "</div>"
      ],
      "text/plain": [
       "    id   arpu_6   arpu_7   arpu_8  onnet_mou_6  onnet_mou_7  onnet_mou_8  \\\n",
       "11  11  292.724  228.753  418.233       135.54        63.61       177.36   \n",
       "12  12  439.919  397.946  392.024       244.46       108.31        42.98   \n",
       "14  14  340.266  205.397  191.780       123.76       116.34        75.93   \n",
       "15  15  580.549  377.294  338.286        10.43        24.99       194.43   \n",
       "22  22  277.458  283.346  231.755       179.54       287.98       155.16   \n",
       "\n",
       "    offnet_mou_6  offnet_mou_7  offnet_mou_8  ...  decrease_mou_aug  \\\n",
       "11         46.39         65.48         92.81  ...                 0   \n",
       "12        571.98        727.91        644.43  ...                 1   \n",
       "14         98.51         94.11        150.61  ...                 1   \n",
       "15        317.11        341.79        197.09  ...                 0   \n",
       "22        335.41        255.18        281.06  ...                 0   \n",
       "\n",
       "    avg_rech_num_aug  diff_rech_num  decrease_rech_num_aug  avg_rech_amt_aug  \\\n",
       "11               7.0           -3.0                      1             340.0   \n",
       "12              15.0            0.0                      0             391.5   \n",
       "14               2.5           -4.5                      1             235.0   \n",
       "15               3.5           -1.5                      1             526.0   \n",
       "22               4.0           -2.0                      1             349.0   \n",
       "\n",
       "    diff_rech_amt  decrease_rech_amt_aug  avg_vbc_3g_aug  diff_vbc  \\\n",
       "11          -70.0                      1             0.0       0.0   \n",
       "12         -129.5                      1             0.0       0.0   \n",
       "14         -295.0                      1             0.0       0.0   \n",
       "15         -128.0                      1             0.0       0.0   \n",
       "22          -12.0                      1             0.0       0.0   \n",
       "\n",
       "    decrease_vbc_aug  \n",
       "11                 0  \n",
       "12                 0  \n",
       "14                 0  \n",
       "15                 0  \n",
       "22                 0  \n",
       "\n",
       "[5 rows x 144 columns]"
      ]
     },
     "execution_count": 38,
     "metadata": {},
     "output_type": "execute_result"
    }
   ],
   "source": [
    "# VBC in action phase and take difference of good and action phase VBC\n",
    "clean_df['avg_vbc_3g_aug'] = (clean_df['jul_vbc_3g'] + clean_df['aug_vbc_3g'])/2\n",
    "clean_df['diff_vbc'] = clean_df['avg_vbc_3g_aug'] - clean_df['jun_vbc_3g']\n",
    "# Checking whether the VBC has decreased on the action month\n",
    "clean_df['decrease_vbc_aug'] = np.where(clean_df['diff_vbc'] < 0 , 1, 0)\n",
    "clean_df.head()"
   ]
  },
  {
   "cell_type": "code",
   "execution_count": 39,
   "metadata": {},
   "outputs": [],
   "source": [
    "# Deriving a new column if average per customer decrease\n",
    "clean_df[\"avg_rev_aug\"] = (clean_df['arpu_7'] + clean_df['arpu_8'])/2\n",
    "# Difference of good and action phase ARPU\n",
    "clean_df['diff_avg_rev_aug'] = clean_df['avg_rev_aug'] - clean_df['arpu_6']\n",
    "# Checking whether the arpu has decreased on the action month\n",
    "clean_df['decrease_avg_aug_per_user'] = np.where(clean_df['diff_avg_rev_aug'] < 0, 1, 0)"
   ]
  },
  {
   "attachments": {},
   "cell_type": "markdown",
   "metadata": {},
   "source": [
    "### EDA And Feature Engineering\n"
   ]
  },
  {
   "attachments": {},
   "cell_type": "markdown",
   "metadata": {},
   "source": [
    "#### Univariate analysis"
   ]
  },
  {
   "cell_type": "code",
   "execution_count": 40,
   "metadata": {},
   "outputs": [],
   "source": [
    "# Converting churn column to int in order to do aggfunc in the pivot table\n",
    "clean_df['churn'] = clean_df['churn'].astype('int64')"
   ]
  },
  {
   "cell_type": "code",
   "execution_count": 41,
   "metadata": {},
   "outputs": [
    {
     "data": {
      "image/png": "[encoded data removed]",
      "text/plain": [
       "<Figure size 640x480 with 1 Axes>"
      ]
     },
     "metadata": {},
     "output_type": "display_data"
    }
   ],
   "source": [
    "clean_df.pivot_table(values='churn', index='decrease_mou_aug', aggfunc='mean').plot.bar()\n",
    "plt.ylabel('churn rate')\n",
    "plt.show()"
   ]
  },
  {
   "cell_type": "code",
   "execution_count": 42,
   "metadata": {},
   "outputs": [
    {
     "data": {
      "image/png": "[encoded data removed]",
      "text/plain": [
       "<Figure size 640x480 with 1 Axes>"
      ]
     },
     "metadata": {},
     "output_type": "display_data"
    }
   ],
   "source": [
    "clean_df.pivot_table(values='churn', index='decrease_rech_num_aug', aggfunc='mean').plot.bar()\n",
    "plt.ylabel('churn rate')\n",
    "plt.show()"
   ]
  },
  {
   "cell_type": "code",
   "execution_count": 43,
   "metadata": {},
   "outputs": [
    {
     "data": {
      "image/png": "[encoded data removed]",
      "text/plain": [
       "<Figure size 640x480 with 1 Axes>"
      ]
     },
     "metadata": {},
     "output_type": "display_data"
    }
   ],
   "source": [
    "clean_df.pivot_table(values='churn', index='decrease_vbc_aug', aggfunc='mean').plot.bar()\n",
    "plt.ylabel('churn rate')\n",
    "plt.show()"
   ]
  },
  {
   "attachments": {},
   "cell_type": "markdown",
   "metadata": {},
   "source": [
    "***Conclusion***\n",
    "1. Where we see minutes of usage decreases compare to previous months for those customers where churn rate is high\n",
    "2. We also the frequency of recharge is decreses with high churn rate\n",
    "3. churn rate is more, whose volume based cost in June and july is increased. Which can be interpreted as these customers don't do the monthly recharge more when they are in the Aug (which we can be consider as Action Phase)."
   ]
  },
  {
   "attachments": {},
   "cell_type": "markdown",
   "metadata": {},
   "source": [
    "Compare customer's average revenue base churn"
   ]
  },
  {
   "cell_type": "code",
   "execution_count": 44,
   "metadata": {},
   "outputs": [
    {
     "name": "stdout",
     "output_type": "stream",
     "text": [
      "(840, 147)\n",
      "(24937, 147)\n"
     ]
    }
   ],
   "source": [
    "# Churn\n",
    "churn_df = clean_df[clean_df['churn'] == 1]\n",
    "# Not churn\n",
    "non_churn_df = clean_df[clean_df['churn'] == 0]\n",
    "\n",
    "print(churn_df.shape)\n",
    "print(non_churn_df.shape)"
   ]
  },
  {
   "cell_type": "code",
   "execution_count": 45,
   "metadata": {},
   "outputs": [
    {
     "data": {
      "text/plain": [
       "array(['id', 'arpu_6', 'arpu_7', 'arpu_8', 'onnet_mou_6', 'onnet_mou_7',\n",
       "       'onnet_mou_8', 'offnet_mou_6', 'offnet_mou_7', 'offnet_mou_8',\n",
       "       'roam_ic_mou_6', 'roam_ic_mou_7', 'roam_ic_mou_8', 'roam_og_mou_6',\n",
       "       'roam_og_mou_7', 'roam_og_mou_8', 'loc_og_t2t_mou_6',\n",
       "       'loc_og_t2t_mou_7', 'loc_og_t2t_mou_8', 'loc_og_t2m_mou_6',\n",
       "       'loc_og_t2m_mou_7', 'loc_og_t2m_mou_8', 'loc_og_t2f_mou_6',\n",
       "       'loc_og_t2f_mou_7', 'loc_og_t2f_mou_8', 'loc_og_t2c_mou_6',\n",
       "       'loc_og_t2c_mou_7', 'loc_og_t2c_mou_8', 'loc_og_mou_6',\n",
       "       'loc_og_mou_7', 'loc_og_mou_8', 'std_og_t2t_mou_6',\n",
       "       'std_og_t2t_mou_7', 'std_og_t2t_mou_8', 'std_og_t2m_mou_6',\n",
       "       'std_og_t2m_mou_7', 'std_og_t2m_mou_8', 'std_og_t2f_mou_6',\n",
       "       'std_og_t2f_mou_7', 'std_og_t2f_mou_8', 'std_og_mou_6',\n",
       "       'std_og_mou_7', 'std_og_mou_8', 'isd_og_mou_6', 'isd_og_mou_7',\n",
       "       'isd_og_mou_8', 'spl_og_mou_6', 'spl_og_mou_7', 'spl_og_mou_8',\n",
       "       'og_others_6', 'og_others_7', 'og_others_8', 'total_og_mou_6',\n",
       "       'total_og_mou_7', 'total_og_mou_8', 'loc_ic_t2t_mou_6',\n",
       "       'loc_ic_t2t_mou_7', 'loc_ic_t2t_mou_8', 'loc_ic_t2m_mou_6',\n",
       "       'loc_ic_t2m_mou_7', 'loc_ic_t2m_mou_8', 'loc_ic_t2f_mou_6',\n",
       "       'loc_ic_t2f_mou_7', 'loc_ic_t2f_mou_8', 'loc_ic_mou_6',\n",
       "       'loc_ic_mou_7', 'loc_ic_mou_8', 'std_ic_t2t_mou_6',\n",
       "       'std_ic_t2t_mou_7', 'std_ic_t2t_mou_8', 'std_ic_t2m_mou_6',\n",
       "       'std_ic_t2m_mou_7', 'std_ic_t2m_mou_8', 'std_ic_t2f_mou_6',\n",
       "       'std_ic_t2f_mou_7', 'std_ic_t2f_mou_8', 'std_ic_mou_6',\n",
       "       'std_ic_mou_7', 'std_ic_mou_8', 'total_ic_mou_6', 'total_ic_mou_7',\n",
       "       'total_ic_mou_8', 'spl_ic_mou_6', 'spl_ic_mou_7', 'spl_ic_mou_8',\n",
       "       'isd_ic_mou_6', 'isd_ic_mou_7', 'isd_ic_mou_8', 'ic_others_6',\n",
       "       'ic_others_7', 'ic_others_8', 'total_rech_num_6',\n",
       "       'total_rech_num_7', 'total_rech_num_8', 'total_rech_amt_6',\n",
       "       'total_rech_amt_7', 'total_rech_amt_8', 'max_rech_amt_6',\n",
       "       'max_rech_amt_7', 'max_rech_amt_8', 'date_of_last_rech_6',\n",
       "       'date_of_last_rech_7', 'date_of_last_rech_8', 'last_day_rch_amt_6',\n",
       "       'last_day_rch_amt_7', 'last_day_rch_amt_8', 'vol_2g_mb_6',\n",
       "       'vol_2g_mb_7', 'vol_2g_mb_8', 'vol_3g_mb_6', 'vol_3g_mb_7',\n",
       "       'vol_3g_mb_8', 'monthly_2g_6', 'monthly_2g_7', 'monthly_2g_8',\n",
       "       'sachet_2g_6', 'sachet_2g_7', 'sachet_2g_8', 'monthly_3g_6',\n",
       "       'monthly_3g_7', 'monthly_3g_8', 'sachet_3g_6', 'sachet_3g_7',\n",
       "       'sachet_3g_8', 'aon', 'aug_vbc_3g', 'jul_vbc_3g', 'jun_vbc_3g',\n",
       "       'churn_probability', 'avg_rech_amt_6_7', 'churn', 'total_mou_good',\n",
       "       'avg_mou_aug', 'diff_mou', 'decrease_mou_aug', 'avg_rech_num_aug',\n",
       "       'diff_rech_num', 'decrease_rech_num_aug', 'avg_rech_amt_aug',\n",
       "       'diff_rech_amt', 'decrease_rech_amt_aug', 'avg_vbc_3g_aug',\n",
       "       'diff_vbc', 'decrease_vbc_aug', 'avg_rev_aug', 'diff_avg_rev_aug',\n",
       "       'decrease_avg_aug_per_user'], dtype=object)"
      ]
     },
     "execution_count": 45,
     "metadata": {},
     "output_type": "execute_result"
    }
   ],
   "source": [
    "clean_df.columns.values"
   ]
  },
  {
   "cell_type": "code",
   "execution_count": 46,
   "metadata": {},
   "outputs": [
    {
     "data": {
      "image/png": "[encoded data removed]",
      "text/plain": [
       "<Figure size 640x480 with 1 Axes>"
      ]
     },
     "metadata": {},
     "output_type": "display_data"
    }
   ],
   "source": [
    "# Lets check the box plots for 8th month revenue to see if it can distinguish\n",
    "sns.boxplot(data=clean_df, x='churn',y='arpu_8')\n",
    "plt.show()"
   ]
  },
  {
   "attachments": {},
   "cell_type": "markdown",
   "metadata": {},
   "source": [
    "Churned customers have low revenue in aug and mean churned customers is almost zero."
   ]
  },
  {
   "cell_type": "code",
   "execution_count": 47,
   "metadata": {},
   "outputs": [
    {
     "data": {
      "image/png": "[encoded data removed]",
      "text/plain": [
       "<Figure size 640x480 with 1 Axes>"
      ]
     },
     "metadata": {},
     "output_type": "display_data"
    }
   ],
   "source": [
    "# Lets check the box plots for july month revenue to see if it can distinguish\n",
    "sns.boxplot(data=clean_df,x='churn',y='arpu_7')\n",
    "plt.show()"
   ]
  },
  {
   "attachments": {},
   "cell_type": "markdown",
   "metadata": {},
   "source": [
    "Here mean of churn and non-churn customers are slightly close to each other"
   ]
  },
  {
   "cell_type": "code",
   "execution_count": 48,
   "metadata": {},
   "outputs": [
    {
     "data": {
      "image/png": "[encoded data removed]",
      "text/plain": [
       "<Figure size 640x480 with 1 Axes>"
      ]
     },
     "metadata": {},
     "output_type": "display_data"
    }
   ],
   "source": [
    "# Lets check the box plots for june month revenue to see if it can distinguish\n",
    "sns.boxplot(data=clean_df,x='churn',y='arpu_6')\n",
    "plt.show()"
   ]
  },
  {
   "attachments": {},
   "cell_type": "markdown",
   "metadata": {},
   "source": [
    "June month is not helpful in distinguishing the churn and non-churn customer"
   ]
  },
  {
   "cell_type": "code",
   "execution_count": 49,
   "metadata": {},
   "outputs": [
    {
     "data": {
      "text/plain": [
       "[Text(0.5, 0, 'Aug MOU')]"
      ]
     },
     "execution_count": 49,
     "metadata": {},
     "output_type": "execute_result"
    },
    {
     "data": {
      "image/png": "[encoded data removed]",
      "text/plain": [
       "<Figure size 640x480 with 1 Axes>"
      ]
     },
     "metadata": {},
     "output_type": "display_data"
    }
   ],
   "source": [
    "# Lets plot the distribution plot to see in depth\n",
    "# Relate denisity total minutes of use\n",
    "ax = sns.distplot(churn_df['total_mou_good'],label='churn',hist=False)\n",
    "ax = sns.distplot(non_churn_df['total_mou_good'],label='non churn',hist=False)\n",
    "ax.set(xlabel='Aug MOU')"
   ]
  },
  {
   "cell_type": "code",
   "execution_count": 50,
   "metadata": {},
   "outputs": [
    {
     "data": {
      "text/plain": [
       "[Text(0.5, 0, 'Aug average revenue per user')]"
      ]
     },
     "execution_count": 50,
     "metadata": {},
     "output_type": "execute_result"
    },
    {
     "data": {
      "image/png": "[encoded data removed]",
      "text/plain": [
       "<Figure size 640x480 with 1 Axes>"
      ]
     },
     "metadata": {},
     "output_type": "display_data"
    }
   ],
   "source": [
    "# Lets plot the distribution plot to see in depth \n",
    "x = sns.distplot(churn_df['avg_rev_aug'],label='churn',hist=False)\n",
    "x = sns.distplot(non_churn_df['avg_rev_aug'],label='not churn',hist=False)\n",
    "x.set(xlabel='Aug average revenue per user')"
   ]
  },
  {
   "attachments": {},
   "cell_type": "markdown",
   "metadata": {},
   "source": [
    "Churned customers is mostly densed on the 0 to 300. The higher average revenue per user customers are less likely to be churned."
   ]
  },
  {
   "cell_type": "markdown",
   "metadata": {},
   "source": [
    "### Bivariate analysis"
   ]
  },
  {
   "cell_type": "code",
   "execution_count": 51,
   "metadata": {},
   "outputs": [
    {
     "data": {
      "image/png": "[encoded data removed]",
      "text/plain": [
       "<Figure size 640x480 with 1 Axes>"
      ]
     },
     "metadata": {},
     "output_type": "display_data"
    }
   ],
   "source": [
    "# Lets plot the distribution plot to see in depth\n",
    "# Relate churn rate and decrease in recharge amout\n",
    "clean_df.pivot_table(values='churn', index='decrease_rech_amt_aug', columns='decrease_rech_num_aug', aggfunc='mean').plot.bar()\n",
    "plt.ylabel('churn rate')\n",
    "plt.show()"
   ]
  },
  {
   "attachments": {},
   "cell_type": "markdown",
   "metadata": {},
   "source": [
    "In Aug, we see for churning customer, there is decrease in average recharge amount and number of recharge. "
   ]
  },
  {
   "attachments": {},
   "cell_type": "markdown",
   "metadata": {},
   "source": [
    "Explore more about average recharge amount and number of recharge"
   ]
  },
  {
   "cell_type": "code",
   "execution_count": 52,
   "metadata": {},
   "outputs": [
    {
     "data": {
      "text/plain": [
       "count    25777.000000\n",
       "mean       481.469391\n",
       "std        284.430930\n",
       "min          0.000000\n",
       "25%        290.500000\n",
       "50%        412.000000\n",
       "75%        602.000000\n",
       "max       2838.000000\n",
       "Name: avg_rech_amt_aug, dtype: float64"
      ]
     },
     "execution_count": 52,
     "metadata": {},
     "output_type": "execute_result"
    }
   ],
   "source": [
    "clean_df['avg_rech_amt_aug'].describe()"
   ]
  },
  {
   "cell_type": "code",
   "execution_count": 53,
   "metadata": {},
   "outputs": [
    {
     "data": {
      "image/png": "[encoded data removed]",
      "text/plain": [
       "<Figure size 1000x600 with 1 Axes>"
      ]
     },
     "metadata": {},
     "output_type": "display_data"
    }
   ],
   "source": [
    "plt.figure(figsize=(10,6))\n",
    "ax = sns.scatterplot(data=clean_df,x='avg_rech_num_aug',y='avg_rech_amt_aug')"
   ]
  },
  {
   "attachments": {},
   "cell_type": "markdown",
   "metadata": {},
   "source": [
    "Recharge number and the recharge amount are mostly propotional. Which can be said that more number of recharge, more the amount of the recharge."
   ]
  },
  {
   "cell_type": "code",
   "execution_count": 54,
   "metadata": {},
   "outputs": [],
   "source": [
    "avg_rev_per_user_df=clean_df[['arpu_6','arpu_7','arpu_8','churn']];"
   ]
  },
  {
   "cell_type": "code",
   "execution_count": 55,
   "metadata": {},
   "outputs": [
    {
     "data": {
      "text/plain": [
       "<AxesSubplot: >"
      ]
     },
     "execution_count": 55,
     "metadata": {},
     "output_type": "execute_result"
    },
    {
     "data": {
      "image/png": "[encoded data removed]",
      "text/plain": [
       "<Figure size 640x480 with 2 Axes>"
      ]
     },
     "metadata": {},
     "output_type": "display_data"
    }
   ],
   "source": [
    "# Now lets check for the correlations among them\n",
    "sns.set(style=\"white\")\n",
    "# Compute the correlation matrix\n",
    "corr = avg_rev_per_user_df.iloc[:,:-1].corr()\n",
    "# Generate a mask for the upper triangle\n",
    "mask = np.triu(np.ones_like(corr, dtype=np.bool))\n",
    "\n",
    "# Set up the matplotlib figure\n",
    "#f, ax = plt.subplots(figsize=(11, 9))\n",
    "\n",
    "# Draw the heatmap with the mask and correct aspect ratio\n",
    "sns.heatmap(corr, mask=mask, center=0,annot=True)"
   ]
  },
  {
   "attachments": {},
   "cell_type": "markdown",
   "metadata": {},
   "source": [
    "Conclusion:\n",
    "\n",
    "There is weak correlation amomg all though interpretable. There is a huge overlap of values for June,July months"
   ]
  },
  {
   "cell_type": "code",
   "execution_count": 56,
   "metadata": {},
   "outputs": [],
   "source": [
    "# we don't need some variable in further analysis, sice we have some derived variables\n",
    "clean_df = clean_df.drop(['total_mou_good','avg_mou_aug','diff_mou','avg_rech_num_aug','diff_rech_num','avg_rech_amt_aug',\n",
    "                 'diff_rech_amt','avg_rev_aug','diff_avg_rev_aug','avg_vbc_3g_aug','diff_vbc','avg_rech_amt_6_7'], axis=1)"
   ]
  },
  {
   "cell_type": "code",
   "execution_count": 57,
   "metadata": {},
   "outputs": [
    {
     "data": {
      "text/plain": [
       "['date_of_last_rech_6', 'date_of_last_rech_7', 'date_of_last_rech_8']"
      ]
     },
     "execution_count": 57,
     "metadata": {},
     "output_type": "execute_result"
    }
   ],
   "source": [
    "# we don't need date columns as well\n",
    "date_cols = [a for a in clean_df.columns if  'date' in a]\n",
    "date_cols"
   ]
  },
  {
   "cell_type": "code",
   "execution_count": 58,
   "metadata": {},
   "outputs": [],
   "source": [
    "clean_df = clean_df.drop(date_cols, axis=1)"
   ]
  },
  {
   "attachments": {},
   "cell_type": "markdown",
   "metadata": {},
   "source": [
    "#### Let's analyse outgoing calls for June, july and aug"
   ]
  },
  {
   "cell_type": "code",
   "execution_count": 59,
   "metadata": {},
   "outputs": [
    {
     "data": {
      "image/png": "[encoded data removed]",
      "text/plain": [
       "<Figure size 640x480 with 1 Axes>"
      ]
     },
     "metadata": {},
     "output_type": "display_data"
    }
   ],
   "source": [
    "# Spread of values for churned and non churned customers in Aug\n",
    "sns.boxplot(x='churn',y='total_og_mou_8', data=clean_df)\n",
    "plt.show()"
   ]
  },
  {
   "attachments": {},
   "cell_type": "markdown",
   "metadata": {},
   "source": [
    "The churned customers have made very less calls compared to the non churned customers in the Aug"
   ]
  },
  {
   "cell_type": "code",
   "execution_count": 60,
   "metadata": {},
   "outputs": [
    {
     "data": {
      "image/png": "[encoded data removed]",
      "text/plain": [
       "<Figure size 640x480 with 1 Axes>"
      ]
     },
     "metadata": {},
     "output_type": "display_data"
    }
   ],
   "source": [
    "# Spread of values for churned and non churned customers in july\n",
    "sns.boxplot(x='churn',y='total_og_mou_7', data=clean_df)\n",
    "plt.show()"
   ]
  },
  {
   "attachments": {},
   "cell_type": "markdown",
   "metadata": {},
   "source": [
    "Outgoing calls are significatly in july more than aug "
   ]
  },
  {
   "attachments": {},
   "cell_type": "markdown",
   "metadata": {},
   "source": [
    "### Model building and Test-Train Split"
   ]
  },
  {
   "cell_type": "code",
   "execution_count": 61,
   "metadata": {},
   "outputs": [],
   "source": [
    "y=clean_df['churn'] # Target variable\n",
    "x=clean_df.drop(columns=['id','churn'])\n",
    "\n",
    "scaler = preprocessing.StandardScaler().fit(x)\n",
    "X = scaler.transform(x)\n",
    "\n",
    "X_train, X_test, y_train, y_test = train_test_split(X,y,train_size=0.7, test_size=0.3, random_state=100)\n",
    "X_train, X_cv, y_train, y_cv = train_test_split(X_train, y_train,train_size=0.7, test_size=0.3, random_state=100)"
   ]
  },
  {
   "cell_type": "code",
   "execution_count": 62,
   "metadata": {},
   "outputs": [],
   "source": [
    "# Fixing data imbalance\n",
    "sm = SMOTE(random_state=27)\n",
    "X_train, y_train = sm.fit_resample(X_train, y_train)"
   ]
  },
  {
   "cell_type": "code",
   "execution_count": 63,
   "metadata": {},
   "outputs": [],
   "source": [
    "def plot_confusion_matrix(cm, classes,title='Confusion matrix',cmap=plt.cm.Blues):\n",
    "    plt.imshow(cm, interpolation='nearest', cmap=cmap)\n",
    "    plt.title(title)\n",
    "    plt.colorbar()\n",
    "    tick_marks = np.arange(len(classes))\n",
    "    plt.xticks(tick_marks, classes, rotation=45)\n",
    "    plt.yticks(tick_marks, classes)\n",
    "\n",
    "    fmt = 'd'\n",
    "    thresh = cm.max() / 2.\n",
    "    for i, j in itertools.product(range(cm.shape[0]), range(cm.shape[1])):\n",
    "        plt.text(j, i, format(cm[i, j], fmt),\n",
    "                 horizontalalignment=\"center\",\n",
    "                 color=\"white\" if cm[i, j] > thresh else \"black\")\n",
    "\n",
    "    plt.tight_layout()\n",
    "    plt.ylabel('True label')\n",
    "    plt.xlabel('Predicted label')"
   ]
  },
  {
   "attachments": {},
   "cell_type": "markdown",
   "metadata": {},
   "source": [
    "#### Decision Tree"
   ]
  },
  {
   "cell_type": "code",
   "execution_count": 64,
   "metadata": {},
   "outputs": [
    {
     "name": "stdout",
     "output_type": "stream",
     "text": [
      "DecisionTreeClassifier(class_weight='balanced', max_depth=10,\n",
      "                       min_samples_split=5)\n",
      "0.9999330835117772\n"
     ]
    }
   ],
   "source": [
    "depth=[1, 5, 10, 50, 100, 500, 100]\n",
    "sample_split=[5, 10, 100, 500] \n",
    "param_grid = {'max_depth':depth,'min_samples_split':sample_split} \n",
    "dectree=DecisionTreeClassifier(class_weight='balanced')\n",
    "#Using GridSearchCV #\n",
    "model_dt1 = GridSearchCV(estimator=dectree, param_grid=param_grid, scoring = 'roc_auc', cv=5) \n",
    "model_dt1.fit(X_train,y_train) \n",
    "print(model_dt1.best_estimator_)\n",
    "print(model_dt1.score(X_test, y_test))"
   ]
  },
  {
   "cell_type": "code",
   "execution_count": 65,
   "metadata": {},
   "outputs": [
    {
     "data": {
      "image/png": "[encoded data removed]",
      "text/plain": [
       "<Figure size 640x480 with 1 Axes>"
      ]
     },
     "metadata": {},
     "output_type": "display_data"
    }
   ],
   "source": [
    "# Auc-error plots\n",
    "y_train_proba=model_dt1.predict_proba(X_train)\n",
    "y_train_proba=y_train_proba[:,1]\n",
    "y_test_proba=model_dt1.predict_proba(X_test)\n",
    "y_test_proba=y_test_proba[:,1]\n",
    "train_fpr, train_tpr, thresholds = roc_curve(y_train, y_train_proba)\n",
    "test_fpr, test_tpr, thresholds = roc_curve(y_test, y_test_proba)\n",
    "\n",
    "plt.plot(train_fpr, train_tpr, label=\"train AUC =\"+str(auc(train_fpr, train_tpr)))\n",
    "plt.plot(test_fpr, test_tpr, label=\"test AUC =\"+str(auc(test_fpr, test_tpr)))\n",
    "plt.legend()\n",
    "plt.xlabel(\"alpha: hyperparameter\")\n",
    "plt.ylabel(\"AUC\")\n",
    "plt.title(\"ERROR PLOTS\")\n",
    "plt.show()"
   ]
  },
  {
   "cell_type": "code",
   "execution_count": 66,
   "metadata": {},
   "outputs": [
    {
     "data": {
      "image/png": "[encoded data removed]",
      "text/plain": [
       "<Figure size 640x480 with 2 Axes>"
      ]
     },
     "metadata": {},
     "output_type": "display_data"
    },
    {
     "data": {
      "image/png": "[encoded data removed]",
      "text/plain": [
       "<Figure size 640x480 with 2 Axes>"
      ]
     },
     "metadata": {},
     "output_type": "display_data"
    }
   ],
   "source": [
    "# Confusion Matrix\n",
    "y_pred_test = model_dt1.predict(X_test)\n",
    "y_pred_train=model_dt1.predict(X_train)\n",
    "plot_confusion_matrix(confusion_matrix(y_train, y_pred_train), [\"negative\", \"positive\"])\n",
    "plt.show()\n",
    "plot_confusion_matrix(confusion_matrix(y_test, y_pred_test), [\"negative\", \"positive\"])\n",
    "plt.show()"
   ]
  },
  {
   "attachments": {},
   "cell_type": "markdown",
   "metadata": {},
   "source": [
    "#### Random Forests"
   ]
  },
  {
   "cell_type": "code",
   "execution_count": 67,
   "metadata": {},
   "outputs": [
    {
     "name": "stdout",
     "output_type": "stream",
     "text": [
      "Fitting 3 folds for each of 24 candidates, totalling 72 fits\n"
     ]
    },
    {
     "data": {
      "text/html": [
       "<style>#sk-container-id-1 {color: black;background-color: white;}#sk-container-id-1 pre{padding: 0;}#sk-container-id-1 div.sk-toggleable {background-color: white;}#sk-container-id-1 label.sk-toggleable__label {cursor: pointer;display: block;width: 100%;margin-bottom: 0;padding: 0.3em;box-sizing: border-box;text-align: center;}#sk-container-id-1 label.sk-toggleable__label-arrow:before {content: \"▸\";float: left;margin-right: 0.25em;color: #696969;}#sk-container-id-1 label.sk-toggleable__label-arrow:hover:before {color: black;}#sk-container-id-1 div.sk-estimator:hover label.sk-toggleable__label-arrow:before {color: black;}#sk-container-id-1 div.sk-toggleable__content {max-height: 0;max-width: 0;overflow: hidden;text-align: left;background-color: #f0f8ff;}#sk-container-id-1 div.sk-toggleable__content pre {margin: 0.2em;color: black;border-radius: 0.25em;background-color: #f0f8ff;}#sk-container-id-1 input.sk-toggleable__control:checked~div.sk-toggleable__content {max-height: 200px;max-width: 100%;overflow: auto;}#sk-container-id-1 input.sk-toggleable__control:checked~label.sk-toggleable__label-arrow:before {content: \"▾\";}#sk-container-id-1 div.sk-estimator input.sk-toggleable__control:checked~label.sk-toggleable__label {background-color: #d4ebff;}#sk-container-id-1 div.sk-label input.sk-toggleable__control:checked~label.sk-toggleable__label {background-color: #d4ebff;}#sk-container-id-1 input.sk-hidden--visually {border: 0;clip: rect(1px 1px 1px 1px);clip: rect(1px, 1px, 1px, 1px);height: 1px;margin: -1px;overflow: hidden;padding: 0;position: absolute;width: 1px;}#sk-container-id-1 div.sk-estimator {font-family: monospace;background-color: #f0f8ff;border: 1px dotted black;border-radius: 0.25em;box-sizing: border-box;margin-bottom: 0.5em;}#sk-container-id-1 div.sk-estimator:hover {background-color: #d4ebff;}#sk-container-id-1 div.sk-parallel-item::after {content: \"\";width: 100%;border-bottom: 1px solid gray;flex-grow: 1;}#sk-container-id-1 div.sk-label:hover label.sk-toggleable__label {background-color: #d4ebff;}#sk-container-id-1 div.sk-serial::before {content: \"\";position: absolute;border-left: 1px solid gray;box-sizing: border-box;top: 0;bottom: 0;left: 50%;z-index: 0;}#sk-container-id-1 div.sk-serial {display: flex;flex-direction: column;align-items: center;background-color: white;padding-right: 0.2em;padding-left: 0.2em;position: relative;}#sk-container-id-1 div.sk-item {position: relative;z-index: 1;}#sk-container-id-1 div.sk-parallel {display: flex;align-items: stretch;justify-content: center;background-color: white;position: relative;}#sk-container-id-1 div.sk-item::before, #sk-container-id-1 div.sk-parallel-item::before {content: \"\";position: absolute;border-left: 1px solid gray;box-sizing: border-box;top: 0;bottom: 0;left: 50%;z-index: -1;}#sk-container-id-1 div.sk-parallel-item {display: flex;flex-direction: column;z-index: 1;position: relative;background-color: white;}#sk-container-id-1 div.sk-parallel-item:first-child::after {align-self: flex-end;width: 50%;}#sk-container-id-1 div.sk-parallel-item:last-child::after {align-self: flex-start;width: 50%;}#sk-container-id-1 div.sk-parallel-item:only-child::after {width: 0;}#sk-container-id-1 div.sk-dashed-wrapped {border: 1px dashed gray;margin: 0 0.4em 0.5em 0.4em;box-sizing: border-box;padding-bottom: 0.4em;background-color: white;}#sk-container-id-1 div.sk-label label {font-family: monospace;font-weight: bold;display: inline-block;line-height: 1.2em;}#sk-container-id-1 div.sk-label-container {text-align: center;}#sk-container-id-1 div.sk-container {/* jupyter's `normalize.less` sets `[hidden] { display: none; }` but bootstrap.min.css set `[hidden] { display: none !important; }` so we also need the `!important` here to be able to override the default hidden behavior on the sphinx rendered scikit-learn.org. See: https://github.com/scikit-learn/scikit-learn/issues/21755 */display: inline-block !important;position: relative;}#sk-container-id-1 div.sk-text-repr-fallback {display: none;}</style><div id=\"sk-container-id-1\" class=\"sk-top-container\"><div class=\"sk-text-repr-fallback\"><pre>GridSearchCV(cv=3, estimator=RandomForestClassifier(), n_jobs=-1,\n",
       "             param_grid={&#x27;max_depth&#x27;: range(5, 10, 5), &#x27;max_features&#x27;: [10, 20],\n",
       "                         &#x27;min_samples_leaf&#x27;: range(50, 150, 50),\n",
       "                         &#x27;min_samples_split&#x27;: range(50, 150, 50),\n",
       "                         &#x27;n_estimators&#x27;: [100, 200, 300]},\n",
       "             return_train_score=True, verbose=1)</pre><b>In a Jupyter environment, please rerun this cell to show the HTML representation or trust the notebook. <br />On GitHub, the HTML representation is unable to render, please try loading this page with nbviewer.org.</b></div><div class=\"sk-container\" hidden><div class=\"sk-item sk-dashed-wrapped\"><div class=\"sk-label-container\"><div class=\"sk-label sk-toggleable\"><input class=\"sk-toggleable__control sk-hidden--visually\" id=\"sk-estimator-id-1\" type=\"checkbox\" ><label for=\"sk-estimator-id-1\" class=\"sk-toggleable__label sk-toggleable__label-arrow\">GridSearchCV</label><div class=\"sk-toggleable__content\"><pre>GridSearchCV(cv=3, estimator=RandomForestClassifier(), n_jobs=-1,\n",
       "             param_grid={&#x27;max_depth&#x27;: range(5, 10, 5), &#x27;max_features&#x27;: [10, 20],\n",
       "                         &#x27;min_samples_leaf&#x27;: range(50, 150, 50),\n",
       "                         &#x27;min_samples_split&#x27;: range(50, 150, 50),\n",
       "                         &#x27;n_estimators&#x27;: [100, 200, 300]},\n",
       "             return_train_score=True, verbose=1)</pre></div></div></div><div class=\"sk-parallel\"><div class=\"sk-parallel-item\"><div class=\"sk-item\"><div class=\"sk-label-container\"><div class=\"sk-label sk-toggleable\"><input class=\"sk-toggleable__control sk-hidden--visually\" id=\"sk-estimator-id-2\" type=\"checkbox\" ><label for=\"sk-estimator-id-2\" class=\"sk-toggleable__label sk-toggleable__label-arrow\">estimator: RandomForestClassifier</label><div class=\"sk-toggleable__content\"><pre>RandomForestClassifier()</pre></div></div></div><div class=\"sk-serial\"><div class=\"sk-item\"><div class=\"sk-estimator sk-toggleable\"><input class=\"sk-toggleable__control sk-hidden--visually\" id=\"sk-estimator-id-3\" type=\"checkbox\" ><label for=\"sk-estimator-id-3\" class=\"sk-toggleable__label sk-toggleable__label-arrow\">RandomForestClassifier</label><div class=\"sk-toggleable__content\"><pre>RandomForestClassifier()</pre></div></div></div></div></div></div></div></div></div></div>"
      ],
      "text/plain": [
       "GridSearchCV(cv=3, estimator=RandomForestClassifier(), n_jobs=-1,\n",
       "             param_grid={'max_depth': range(5, 10, 5), 'max_features': [10, 20],\n",
       "                         'min_samples_leaf': range(50, 150, 50),\n",
       "                         'min_samples_split': range(50, 150, 50),\n",
       "                         'n_estimators': [100, 200, 300]},\n",
       "             return_train_score=True, verbose=1)"
      ]
     },
     "execution_count": 67,
     "metadata": {},
     "output_type": "execute_result"
    }
   ],
   "source": [
    "# Hyperparameter tuning\n",
    "param_grid = {\n",
    "    'max_depth': range(5,10,5),\n",
    "    'min_samples_leaf': range(50, 150, 50),\n",
    "    'min_samples_split': range(50, 150, 50),\n",
    "    'n_estimators': [100,200,300], \n",
    "    'max_features': [10, 20]\n",
    "}\n",
    "# Create a based model\n",
    "rf = RandomForestClassifier()\n",
    "# Instantiate the grid search model\n",
    "grid_search = GridSearchCV(estimator = rf, \n",
    "                           param_grid = param_grid, \n",
    "                           cv = 3,\n",
    "                           n_jobs = -1,\n",
    "                           verbose = 1, \n",
    "                           return_train_score=True)\n",
    "\n",
    "# Fit the model\n",
    "grid_search.fit(X_train, y_train)"
   ]
  },
  {
   "cell_type": "code",
   "execution_count": null,
   "metadata": {},
   "outputs": [],
   "source": [
    "# Optimal accuracy score and hyperparameters\n",
    "print('We can see accuracy of',grid_search.best_score_,'using',grid_search.best_params_)"
   ]
  },
  {
   "cell_type": "code",
   "execution_count": 68,
   "metadata": {},
   "outputs": [],
   "source": [
    "# model with the best hyperparameters\n",
    "\n",
    "rfc_model = RandomForestClassifier(bootstrap=True,\n",
    "                             max_depth=5,\n",
    "                             min_samples_leaf=50, \n",
    "                             min_samples_split=100,\n",
    "                             max_features=20,\n",
    "                             n_estimators=300)"
   ]
  },
  {
   "cell_type": "code",
   "execution_count": 69,
   "metadata": {},
   "outputs": [
    {
     "data": {
      "text/html": [
       "<style>#sk-container-id-2 {color: black;background-color: white;}#sk-container-id-2 pre{padding: 0;}#sk-container-id-2 div.sk-toggleable {background-color: white;}#sk-container-id-2 label.sk-toggleable__label {cursor: pointer;display: block;width: 100%;margin-bottom: 0;padding: 0.3em;box-sizing: border-box;text-align: center;}#sk-container-id-2 label.sk-toggleable__label-arrow:before {content: \"▸\";float: left;margin-right: 0.25em;color: #696969;}#sk-container-id-2 label.sk-toggleable__label-arrow:hover:before {color: black;}#sk-container-id-2 div.sk-estimator:hover label.sk-toggleable__label-arrow:before {color: black;}#sk-container-id-2 div.sk-toggleable__content {max-height: 0;max-width: 0;overflow: hidden;text-align: left;background-color: #f0f8ff;}#sk-container-id-2 div.sk-toggleable__content pre {margin: 0.2em;color: black;border-radius: 0.25em;background-color: #f0f8ff;}#sk-container-id-2 input.sk-toggleable__control:checked~div.sk-toggleable__content {max-height: 200px;max-width: 100%;overflow: auto;}#sk-container-id-2 input.sk-toggleable__control:checked~label.sk-toggleable__label-arrow:before {content: \"▾\";}#sk-container-id-2 div.sk-estimator input.sk-toggleable__control:checked~label.sk-toggleable__label {background-color: #d4ebff;}#sk-container-id-2 div.sk-label input.sk-toggleable__control:checked~label.sk-toggleable__label {background-color: #d4ebff;}#sk-container-id-2 input.sk-hidden--visually {border: 0;clip: rect(1px 1px 1px 1px);clip: rect(1px, 1px, 1px, 1px);height: 1px;margin: -1px;overflow: hidden;padding: 0;position: absolute;width: 1px;}#sk-container-id-2 div.sk-estimator {font-family: monospace;background-color: #f0f8ff;border: 1px dotted black;border-radius: 0.25em;box-sizing: border-box;margin-bottom: 0.5em;}#sk-container-id-2 div.sk-estimator:hover {background-color: #d4ebff;}#sk-container-id-2 div.sk-parallel-item::after {content: \"\";width: 100%;border-bottom: 1px solid gray;flex-grow: 1;}#sk-container-id-2 div.sk-label:hover label.sk-toggleable__label {background-color: #d4ebff;}#sk-container-id-2 div.sk-serial::before {content: \"\";position: absolute;border-left: 1px solid gray;box-sizing: border-box;top: 0;bottom: 0;left: 50%;z-index: 0;}#sk-container-id-2 div.sk-serial {display: flex;flex-direction: column;align-items: center;background-color: white;padding-right: 0.2em;padding-left: 0.2em;position: relative;}#sk-container-id-2 div.sk-item {position: relative;z-index: 1;}#sk-container-id-2 div.sk-parallel {display: flex;align-items: stretch;justify-content: center;background-color: white;position: relative;}#sk-container-id-2 div.sk-item::before, #sk-container-id-2 div.sk-parallel-item::before {content: \"\";position: absolute;border-left: 1px solid gray;box-sizing: border-box;top: 0;bottom: 0;left: 50%;z-index: -1;}#sk-container-id-2 div.sk-parallel-item {display: flex;flex-direction: column;z-index: 1;position: relative;background-color: white;}#sk-container-id-2 div.sk-parallel-item:first-child::after {align-self: flex-end;width: 50%;}#sk-container-id-2 div.sk-parallel-item:last-child::after {align-self: flex-start;width: 50%;}#sk-container-id-2 div.sk-parallel-item:only-child::after {width: 0;}#sk-container-id-2 div.sk-dashed-wrapped {border: 1px dashed gray;margin: 0 0.4em 0.5em 0.4em;box-sizing: border-box;padding-bottom: 0.4em;background-color: white;}#sk-container-id-2 div.sk-label label {font-family: monospace;font-weight: bold;display: inline-block;line-height: 1.2em;}#sk-container-id-2 div.sk-label-container {text-align: center;}#sk-container-id-2 div.sk-container {/* jupyter's `normalize.less` sets `[hidden] { display: none; }` but bootstrap.min.css set `[hidden] { display: none !important; }` so we also need the `!important` here to be able to override the default hidden behavior on the sphinx rendered scikit-learn.org. See: https://github.com/scikit-learn/scikit-learn/issues/21755 */display: inline-block !important;position: relative;}#sk-container-id-2 div.sk-text-repr-fallback {display: none;}</style><div id=\"sk-container-id-2\" class=\"sk-top-container\"><div class=\"sk-text-repr-fallback\"><pre>RandomForestClassifier(max_depth=5, max_features=20, min_samples_leaf=50,\n",
       "                       min_samples_split=100, n_estimators=300)</pre><b>In a Jupyter environment, please rerun this cell to show the HTML representation or trust the notebook. <br />On GitHub, the HTML representation is unable to render, please try loading this page with nbviewer.org.</b></div><div class=\"sk-container\" hidden><div class=\"sk-item\"><div class=\"sk-estimator sk-toggleable\"><input class=\"sk-toggleable__control sk-hidden--visually\" id=\"sk-estimator-id-4\" type=\"checkbox\" checked><label for=\"sk-estimator-id-4\" class=\"sk-toggleable__label sk-toggleable__label-arrow\">RandomForestClassifier</label><div class=\"sk-toggleable__content\"><pre>RandomForestClassifier(max_depth=5, max_features=20, min_samples_leaf=50,\n",
       "                       min_samples_split=100, n_estimators=300)</pre></div></div></div></div></div>"
      ],
      "text/plain": [
       "RandomForestClassifier(max_depth=5, max_features=20, min_samples_leaf=50,\n",
       "                       min_samples_split=100, n_estimators=300)"
      ]
     },
     "execution_count": 69,
     "metadata": {},
     "output_type": "execute_result"
    }
   ],
   "source": [
    "# Fit the model\n",
    "rfc_model.fit(X_train, y_train)"
   ]
  },
  {
   "attachments": {},
   "cell_type": "markdown",
   "metadata": {},
   "source": [
    "#### Predictions on the train set"
   ]
  },
  {
   "cell_type": "code",
   "execution_count": 70,
   "metadata": {},
   "outputs": [],
   "source": [
    "# Predictions on the train set\n",
    "y_train_pred = rfc_model.predict(X_train)"
   ]
  },
  {
   "cell_type": "code",
   "execution_count": 71,
   "metadata": {},
   "outputs": [
    {
     "name": "stdout",
     "output_type": "stream",
     "text": [
      "[[12182    51]\n",
      " [    0 12233]]\n"
     ]
    }
   ],
   "source": [
    "# Confusion matrix\n",
    "confusion = metrics.confusion_matrix(y_train, y_train_pred)\n",
    "print(confusion)"
   ]
  },
  {
   "cell_type": "code",
   "execution_count": 72,
   "metadata": {},
   "outputs": [
    {
     "data": {
      "image/png": "[encoded data removed]",
      "text/plain": [
       "<Figure size 640x480 with 2 Axes>"
      ]
     },
     "metadata": {},
     "output_type": "display_data"
    },
    {
     "data": {
      "image/png": "[encoded data removed]",
      "text/plain": [
       "<Figure size 640x480 with 2 Axes>"
      ]
     },
     "metadata": {},
     "output_type": "display_data"
    }
   ],
   "source": [
    "# Confusion Matrix\n",
    "y_pred_on_train=rfc_model.predict(X_train)\n",
    "plot_confusion_matrix(confusion_matrix(y_train, y_pred_on_train), [\"negative\", \"positive\"])\n",
    "plt.show()"
   ]
  },
  {
   "cell_type": "code",
   "execution_count": 73,
   "metadata": {},
   "outputs": [],
   "source": [
    "TP = confusion[1,1] # true positive \n",
    "TN = confusion[0,0] # true negatives\n",
    "FP = confusion[0,1] # false positives\n",
    "FN = confusion[1,0] # false negatives"
   ]
  },
  {
   "cell_type": "code",
   "execution_count": 74,
   "metadata": {},
   "outputs": [
    {
     "name": "stdout",
     "output_type": "stream",
     "text": [
      "Accuracy:- 0.9962503232479959\n",
      "Sensitivity:- 1.0\n",
      "Specificity:- 0.9958309490721818\n"
     ]
    }
   ],
   "source": [
    "# Accuracy\n",
    "print(\"Accuracy:-\",metrics.accuracy_score(y_train, y_train_pred))\n",
    "# Sensitivity\n",
    "print(\"Sensitivity:-\",TP / float(TP+FN))\n",
    "# Specificity\n",
    "print(\"Specificity:-\", TN / float(TN+FP))"
   ]
  },
  {
   "attachments": {},
   "cell_type": "markdown",
   "metadata": {},
   "source": [
    "#### Test set prediction"
   ]
  },
  {
   "cell_type": "code",
   "execution_count": null,
   "metadata": {},
   "outputs": [],
   "source": [
    "y_pred_on_test = rfc_model.predict(X_test)\n"
   ]
  },
  {
   "cell_type": "code",
   "execution_count": null,
   "metadata": {},
   "outputs": [],
   "source": [
    "\n",
    "plot_confusion_matrix(confusion_matrix(y_test, y_pred_on_test), [\"negative\", \"positive\"])\n",
    "plt.show()"
   ]
  },
  {
   "cell_type": "code",
   "execution_count": null,
   "metadata": {},
   "outputs": [],
   "source": [
    "TP = confusion[1,1] # true positive \n",
    "TN = confusion[0,0] # true negatives\n",
    "FP = confusion[0,1] # false positives\n",
    "FN = confusion[1,0] # false negatives"
   ]
  },
  {
   "cell_type": "code",
   "execution_count": null,
   "metadata": {},
   "outputs": [],
   "source": [
    "# Accuracy\n",
    "print(\"Accuracy:-\",metrics.accuracy_score(y_test, y_test_pred))\n",
    "\n",
    "# Sensitivity\n",
    "print(\"Sensitivity:-\",TP / float(TP+FN))\n",
    "\n",
    "# Specificity\n",
    "print(\"Specificity:-\", TN / float(TN+FP))"
   ]
  },
  {
   "attachments": {},
   "cell_type": "markdown",
   "metadata": {},
   "source": [
    "Conclusion\n",
    "\n",
    "- Train set\n",
    "    - Accuracy = 0.90\n",
    "    - Sensitivity = 0.91\n",
    "    - Specificity = 0.88\n",
    "- Test set\n",
    "    - Accuracy = 0.86\n",
    "    - Sensitivity = 0.70\n",
    "    - Specificity = 0.87\n",
    "    \n",
    "    \n",
    "We can see from the model performance that the Sesitivity has been decreased while evaluating the model on the test set. However, the accuracy and specificity is quite good in the test set."
   ]
  },
  {
   "attachments": {},
   "cell_type": "markdown",
   "metadata": {},
   "source": [
    "#### Model with PCA"
   ]
  },
  {
   "cell_type": "code",
   "execution_count": null,
   "metadata": {},
   "outputs": [
    {
     "data": {
      "text/html": [
       "<style>#sk-container-id-4 {color: black;background-color: white;}#sk-container-id-4 pre{padding: 0;}#sk-container-id-4 div.sk-toggleable {background-color: white;}#sk-container-id-4 label.sk-toggleable__label {cursor: pointer;display: block;width: 100%;margin-bottom: 0;padding: 0.3em;box-sizing: border-box;text-align: center;}#sk-container-id-4 label.sk-toggleable__label-arrow:before {content: \"▸\";float: left;margin-right: 0.25em;color: #696969;}#sk-container-id-4 label.sk-toggleable__label-arrow:hover:before {color: black;}#sk-container-id-4 div.sk-estimator:hover label.sk-toggleable__label-arrow:before {color: black;}#sk-container-id-4 div.sk-toggleable__content {max-height: 0;max-width: 0;overflow: hidden;text-align: left;background-color: #f0f8ff;}#sk-container-id-4 div.sk-toggleable__content pre {margin: 0.2em;color: black;border-radius: 0.25em;background-color: #f0f8ff;}#sk-container-id-4 input.sk-toggleable__control:checked~div.sk-toggleable__content {max-height: 200px;max-width: 100%;overflow: auto;}#sk-container-id-4 input.sk-toggleable__control:checked~label.sk-toggleable__label-arrow:before {content: \"▾\";}#sk-container-id-4 div.sk-estimator input.sk-toggleable__control:checked~label.sk-toggleable__label {background-color: #d4ebff;}#sk-container-id-4 div.sk-label input.sk-toggleable__control:checked~label.sk-toggleable__label {background-color: #d4ebff;}#sk-container-id-4 input.sk-hidden--visually {border: 0;clip: rect(1px 1px 1px 1px);clip: rect(1px, 1px, 1px, 1px);height: 1px;margin: -1px;overflow: hidden;padding: 0;position: absolute;width: 1px;}#sk-container-id-4 div.sk-estimator {font-family: monospace;background-color: #f0f8ff;border: 1px dotted black;border-radius: 0.25em;box-sizing: border-box;margin-bottom: 0.5em;}#sk-container-id-4 div.sk-estimator:hover {background-color: #d4ebff;}#sk-container-id-4 div.sk-parallel-item::after {content: \"\";width: 100%;border-bottom: 1px solid gray;flex-grow: 1;}#sk-container-id-4 div.sk-label:hover label.sk-toggleable__label {background-color: #d4ebff;}#sk-container-id-4 div.sk-serial::before {content: \"\";position: absolute;border-left: 1px solid gray;box-sizing: border-box;top: 0;bottom: 0;left: 50%;z-index: 0;}#sk-container-id-4 div.sk-serial {display: flex;flex-direction: column;align-items: center;background-color: white;padding-right: 0.2em;padding-left: 0.2em;position: relative;}#sk-container-id-4 div.sk-item {position: relative;z-index: 1;}#sk-container-id-4 div.sk-parallel {display: flex;align-items: stretch;justify-content: center;background-color: white;position: relative;}#sk-container-id-4 div.sk-item::before, #sk-container-id-4 div.sk-parallel-item::before {content: \"\";position: absolute;border-left: 1px solid gray;box-sizing: border-box;top: 0;bottom: 0;left: 50%;z-index: -1;}#sk-container-id-4 div.sk-parallel-item {display: flex;flex-direction: column;z-index: 1;position: relative;background-color: white;}#sk-container-id-4 div.sk-parallel-item:first-child::after {align-self: flex-end;width: 50%;}#sk-container-id-4 div.sk-parallel-item:last-child::after {align-self: flex-start;width: 50%;}#sk-container-id-4 div.sk-parallel-item:only-child::after {width: 0;}#sk-container-id-4 div.sk-dashed-wrapped {border: 1px dashed gray;margin: 0 0.4em 0.5em 0.4em;box-sizing: border-box;padding-bottom: 0.4em;background-color: white;}#sk-container-id-4 div.sk-label label {font-family: monospace;font-weight: bold;display: inline-block;line-height: 1.2em;}#sk-container-id-4 div.sk-label-container {text-align: center;}#sk-container-id-4 div.sk-container {/* jupyter's `normalize.less` sets `[hidden] { display: none; }` but bootstrap.min.css set `[hidden] { display: none !important; }` so we also need the `!important` here to be able to override the default hidden behavior on the sphinx rendered scikit-learn.org. See: https://github.com/scikit-learn/scikit-learn/issues/21755 */display: inline-block !important;position: relative;}#sk-container-id-4 div.sk-text-repr-fallback {display: none;}</style><div id=\"sk-container-id-4\" class=\"sk-top-container\"><div class=\"sk-text-repr-fallback\"><pre>PCA(random_state=42)</pre><b>In a Jupyter environment, please rerun this cell to show the HTML representation or trust the notebook. <br />On GitHub, the HTML representation is unable to render, please try loading this page with nbviewer.org.</b></div><div class=\"sk-container\" hidden><div class=\"sk-item\"><div class=\"sk-estimator sk-toggleable\"><input class=\"sk-toggleable__control sk-hidden--visually\" id=\"sk-estimator-id-6\" type=\"checkbox\" checked><label for=\"sk-estimator-id-6\" class=\"sk-toggleable__label sk-toggleable__label-arrow\">PCA</label><div class=\"sk-toggleable__content\"><pre>PCA(random_state=42)</pre></div></div></div></div></div>"
      ],
      "text/plain": [
       "PCA(random_state=42)"
      ]
     },
     "execution_count": 4651,
     "metadata": {},
     "output_type": "execute_result"
    }
   ],
   "source": [
    "pca = PCA(random_state=42)\n",
    "# Fit train set on PCA\n",
    "pca.fit(X_train)"
   ]
  },
  {
   "cell_type": "code",
   "execution_count": null,
   "metadata": {},
   "outputs": [
    {
     "data": {
      "text/plain": [
       "array([[ 1.69915028e-02,  1.19981401e-01,  1.97144828e-01, ...,\n",
       "        -1.12546498e-01,  3.94293204e-02, -1.12453430e-01],\n",
       "       [ 1.79428595e-01,  1.32206165e-01,  2.69369006e-02, ...,\n",
       "         4.93071989e-02, -3.09374207e-02,  4.86911073e-02],\n",
       "       [ 1.18890996e-01,  1.55427885e-01,  1.22381113e-01, ...,\n",
       "        -2.47978535e-02, -3.39479972e-03, -2.27244818e-02],\n",
       "       ...,\n",
       "       [-2.61563305e-07,  6.70170305e-07,  1.38521853e-06, ...,\n",
       "        -2.61188278e-07,  2.54336477e-07,  8.39592253e-08],\n",
       "       [ 1.34814864e-07, -2.46212599e-07,  7.28673648e-08, ...,\n",
       "         2.10889597e-08, -3.33636808e-08,  1.90457888e-07],\n",
       "       [ 1.64887983e-08,  4.51780484e-07,  3.84574021e-07, ...,\n",
       "         5.61025752e-08,  6.11210715e-08, -1.07388874e-08]])"
      ]
     },
     "execution_count": 4652,
     "metadata": {},
     "output_type": "execute_result"
    }
   ],
   "source": [
    "# Principal components\n",
    "pca.components_"
   ]
  },
  {
   "cell_type": "code",
   "execution_count": null,
   "metadata": {},
   "outputs": [
    {
     "name": "stdout",
     "output_type": "stream",
     "text": [
      "[0.14256784 0.23005015 0.30175587 0.3555885  0.39751222 0.43349073\n",
      " 0.4659418  0.4934661  0.51896134 0.5409451  0.55879007 0.57540997\n",
      " 0.59170235 0.60699058 0.62191193 0.6360644  0.64946601 0.66203769\n",
      " 0.67353218 0.68439983 0.69474747 0.70474777 0.71439315 0.72362883\n",
      " 0.73258229 0.74104482 0.74918088 0.757159   0.76475573 0.77218695\n",
      " 0.77940567 0.78648597 0.79332254 0.79994253 0.80620508 0.81236402\n",
      " 0.81844003 0.8243106  0.83010286 0.83576243 0.84126    0.84658865\n",
      " 0.85155875 0.85649763 0.86124134 0.86588334 0.87025194 0.87459337\n",
      " 0.87882826 0.88302055 0.88714886 0.89116763 0.89512826 0.89904401\n",
      " 0.90281159 0.90649288 0.91005988 0.91350157 0.9168267  0.92010944\n",
      " 0.92329572 0.92644132 0.92951657 0.93252882 0.93543661 0.93824933\n",
      " 0.94102513 0.94371228 0.94632161 0.94888777 0.95140907 0.95388301\n",
      " 0.95623896 0.9585826  0.96082841 0.96304077 0.96519738 0.96724289\n",
      " 0.96927435 0.97119483 0.97308536 0.97489542 0.97667433 0.97836727\n",
      " 0.98001285 0.9816503  0.98323248 0.9847173  0.98616511 0.98753736\n",
      " 0.98885804 0.99009826 0.99129711 0.99239112 0.99341081 0.99441213\n",
      " 0.99536492 0.99626773 0.99691243 0.99754596 0.9981593  0.99870586\n",
      " 0.99916745 0.99949717 0.9997559  0.99991883 0.99997047 0.99998754\n",
      " 0.99999941 0.99999978 0.99999991 1.         1.         1.\n",
      " 1.         1.         1.         1.         1.         1.\n",
      " 1.         1.         1.         1.         1.         1.\n",
      " 1.         1.         1.         1.        ]\n"
     ]
    }
   ],
   "source": [
    "# cumulative varinace of the PCs\n",
    "variance_cumu = np.cumsum(pca.explained_variance_ratio_)\n",
    "print(variance_cumu)"
   ]
  },
  {
   "cell_type": "code",
   "execution_count": null,
   "metadata": {},
   "outputs": [
    {
     "data": {
      "text/plain": [
       "Text(0, 0.5, 'Cumulative Variance')"
      ]
     },
     "execution_count": 4654,
     "metadata": {},
     "output_type": "execute_result"
    },
    {
     "data": {
      "image/png": "[encoded data removed]",
      "text/plain": [
       "<Figure size 1000x600 with 1 Axes>"
      ]
     },
     "metadata": {},
     "output_type": "display_data"
    }
   ],
   "source": [
    "# scree plot the number of the principal component versus its corresponding eigenvalue.\n",
    "fig = plt.figure(figsize = (10,6))\n",
    "plt.plot(variance_cumu)\n",
    "plt.xlabel('Number of Components')\n",
    "plt.ylabel('Cumulative Variance')"
   ]
  },
  {
   "attachments": {},
   "cell_type": "markdown",
   "metadata": {},
   "source": [
    "60 components explain amost more than 90% variance of the data. So, we will perform PCA with 60 components"
   ]
  }
 ],
 "metadata": {
  "kernelspec": {
   "display_name": "Python 3",
   "language": "python",
   "name": "python3"
  },
  "language_info": {
   "codemirror_mode": {
    "name": "ipython",
    "version": 3
   },
   "file_extension": ".py",
   "mimetype": "text/x-python",
   "name": "python",
   "nbconvert_exporter": "python",
   "pygments_lexer": "ipython3",
   "version": "3.10.6"
  },
  "orig_nbformat": 4,
  "vscode": {
   "interpreter": {
    "hash": "9481fb1dd098b8b16b6b0a64d4bd8eb0fb4bed8d91a219c8412d1dcf52a25cf6"
   }
  }
 },
 "nbformat": 4,
 "nbformat_minor": 2
}
